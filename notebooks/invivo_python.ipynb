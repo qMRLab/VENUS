{
 "cells": [
  {
   "cell_type": "code",
   "execution_count": null,
   "metadata": {},
   "outputs": [],
   "source": [
    "import plotly.graph_objs as go\n",
    "import plotly.express as px\n",
    "from plotly import tools, subplots\n",
    "import numpy as np\n",
    "import pandas as pd\n",
    "import ipywidgets as widgets\n",
    "import math\n",
    "from plotly.offline import download_plotlyjs, init_notebook_mode, plot, iplot\n",
    "from ipywidgets import interact, interactive, fixed, interact_manual\n",
    "init_notebook_mode(connected=True)\n",
    "import scipy.io as sio\n",
    "import random\n",
    "random.seed(123)"
   ]
  },
  {
   "cell_type": "markdown",
   "metadata": {},
   "source": [
    "## Set derivatives directory\n",
    "\n",
    "The `derivativesDir` variable below should point to `..../ds-venus/derivatives/qMRFLow/`."
   ]
  },
  {
   "cell_type": "code",
   "execution_count": null,
   "metadata": {},
   "outputs": [],
   "source": [
    "derivativesDir = '/tmp/ds-toronto/derivatives/qMRFlow/'"
   ]
  },
  {
   "cell_type": "markdown",
   "metadata": {},
   "source": [
    "## Define some variables and a helper function\n",
    "\n",
    "Please execute the following cell."
   ]
  },
  {
   "cell_type": "code",
   "execution_count": null,
   "metadata": {},
   "outputs": [],
   "source": [
    "sessions = ['vendor750rev','vendorPRIrev','vendorSKYrev',\n",
    "           'rth750rev','rthPRIrev','rthSKYrev']\n",
    "sides = [\"negative\",\"negative\",\"negative\",\"positive\",\"positive\",\"positive\"]\n",
    "pointpos = [0,0,-0.14,0.14,0,0]\n",
    "convert_tag = {'rth750':'G1<sub>neutral</sub>','rthPRI':'S1<sub>neutral</sub>','rthSKY':'S2<sub>neutral</sub>',\n",
    "               'vendor750':'G1<sub>native</sub>','vendorPRI':'S1<sub>native</sub>','vendorSKY':'S2<sub>native</sub>'}\n",
    "colors = {'rth750':'rgba(255,8,30,1)','rthPRI':'rgba(255,117,0,1)','rthSKY':'rgba(255,220,0,1)',\n",
    "         'vendor750':'rgba(0,75,255,1)','vendorPRI':'rgba(24,231,234,1)','vendorSKY':'rgba(24,234,141,1)'}\n",
    "colors_line = {'rth750':'rgba(255,8,30,0.35)','rthPRI':'rgba(255,117,0,0.35)','rthSKY':'rgba(255,220,0,0.35)',\n",
    "         'vendor750':'rgba(0,75,255,0.35)','vendorPRI':'rgba(24,231,234,0.35)','vendorSKY':'rgba(24,234,141,0.35)'}\n",
    "def plot_ridgelines(subject,sessions,metric,region,colors,sides,sampN,lowlim,uplim):\n",
    "    df = pd.DataFrame()\n",
    "    fig = go.Figure()\n",
    "    for jj in range(0,len(sessions),1):\n",
    "        avg_array  = []\n",
    "        std_array  =  []\n",
    "        cur_region = derivativesDir + '/sub-' + subject  + '/ses-' + sessions[jj] + '/stat/sub-' + subject + '_ses-' + sessions[jj] + '_desc-' + region + '_metrics.mat'\n",
    "        cur_contents = sio.loadmat(cur_region)\n",
    "        cur_contents = cur_contents[metric]\n",
    "        cur_contents = np.delete(cur_contents, np.where(cur_contents < lowlim))\n",
    "        cur_contents = np.delete(cur_contents, np.where(cur_contents > uplim))\n",
    "        cur_tag = sessions[jj][0:-3]\n",
    "        cur_contents = random.sample(list(cur_contents),sampN)\n",
    "        fig.add_trace(go.Violin(x=cur_contents,\n",
    "            name = convert_tag[cur_tag],\n",
    "            marker=dict(\n",
    "            opacity = 0.7,    \n",
    "            outliercolor='rgba(255, 255, 255, 0.6)',\n",
    "            line=dict(\n",
    "                outliercolor='rgba(219, 64, 82, 0.6)',\n",
    "                outlierwidth=2)),\n",
    "            line_color= colors[cur_tag],\n",
    "            side=sides[jj],\n",
    "            pointpos = pointpos[jj]))\n",
    "\n",
    "    fig.update_layout(height=1000, width=1200)\n",
    "    fig.update_layout(legend=dict(x=1, y=1,tracegroupgap=300,font=dict(color=\"white\")))\n",
    "    axis_template = dict(linecolor = 'white', \n",
    "                         showticklabels = True,\n",
    "                         tickfont=dict(color=\"white\",size=12), \n",
    "                         gridcolor = 'rgba(255,255,255,0.2)')\n",
    "    #fig.update_xaxes(axis_template,tickvals=np.round(np.linspace(lowlim,uplim,10),1))\n",
    "    fig.update_yaxes(axis_template,showgrid=False)\n",
    "    fig.update_traces(orientation='h')\n",
    "    fig.update_layout(paper_bgcolor = '#1c2a3d',plot_bgcolor = '#1c2a3d')\n",
    "    fig.update_traces(meanline=dict(visible=True,color=\"white\",width=3),\n",
    "                      points= 'outliers', # show all points\n",
    "                      jitter=0.1,\n",
    "                      width=3)  # add some jitter on points for better visibility\n",
    "                      #scalemode='count')\n",
    "    fig.update_xaxes(range=[lowlim,uplim])\n",
    "    return fig"
   ]
  },
  {
   "cell_type": "markdown",
   "metadata": {},
   "source": [
    "## Visualize interactive KDE ridgelines \n",
    "\n",
    "* In the manuscript, `invivo3` was selected for visualization. You can select `invivo1` and `invivo2` as well. \n",
    "* In the `WM`, sampN was `37000`\n",
    "* In the `GM`, sampN was `20000`\n",
    "* For metric `T1` `lowlim: 0` and `uplim: 2.5`  (WM)\n",
    "* For metric `MTR` `lowlim: 35` and `uplim: 70` (WM)\n",
    "* For metric `MTsat` `lowlim: 1` and `uplim: 8` (WM)"
   ]
  },
  {
   "cell_type": "code",
   "execution_count": null,
   "metadata": {},
   "outputs": [],
   "source": [
    "plot_ridgelines('invivo3',sessions,'T1','WM',colors,sides,37000,0.5,2)\n",
    "#plot_ridgelines('invivo3',sessions,'MTR','WM',colors,sides,37000,35,70)\n",
    "#plot_ridgelines('invivo3',sessions,'MTsat','WM',colors,sides,37000,1,8)\n",
    "#plot_ridgelines('invivo3',sessions,'T1','GM',colors,sides,20000,0.5,2) "
   ]
  },
  {
   "cell_type": "markdown",
   "metadata": {},
   "source": [
    "## Shift function explanation (Fig 6a)\n",
    "\n",
    "Visualize two normal distributions and mark decile locations for each."
   ]
  },
  {
   "cell_type": "code",
   "execution_count": null,
   "metadata": {
    "scrolled": true
   },
   "outputs": [],
   "source": [
    "from scipy.stats import norm\n",
    "# generate random numbers from N(0,1)\n",
    "\n",
    "fig = go.Figure()\n",
    "\n",
    "\n",
    "data_normal = norm.rvs(size=10000,loc=0.5,scale=1)\n",
    "data_normal2 = norm.rvs(size=10000,loc=0,scale=2)\n",
    "\n",
    "# Figure for ideal case \n",
    "#data_normal = norm.rvs(size=10000,loc=0,scale=1)\n",
    "#data_normal2 = norm.rvs(size=10000,loc=0,scale=1)\n",
    "\n",
    "fig.add_trace(go.Violin(x=data_normal,\n",
    "    opacity = 1,    \n",
    "    line_color= \"crimson\",\n",
    "    side=\"positive\",\n",
    "    meanline=dict(visible=True,color=\"crimson\",width=4),\n",
    "    width=2\n",
    "))\n",
    "fig.add_trace(go.Violin(x=data_normal2,\n",
    "    marker=dict(\n",
    "    opacity = 0.3,    \n",
    "    outliercolor='rgba(255, 255, 255, 0.6)',\n",
    "    line=dict(\n",
    "        outliercolor='rgba(219, 64, 82, 0.6)',\n",
    "        outlierwidth=2)),\n",
    "    line_color= \"limegreen\",\n",
    "    side=\"positive\",\n",
    "    meanline=dict(visible=True,color=\"limegreen\",width=4),\n",
    "    width=2                    \n",
    "))\n",
    "\n",
    "\n",
    "fig.update_traces(orientation='h')\n",
    "fig.update_layout(paper_bgcolor = 'white',plot_bgcolor = 'white',height=800, width=1200)\n",
    "fig.update_traces(points=False)"
   ]
  },
  {
   "cell_type": "code",
   "execution_count": null,
   "metadata": {},
   "outputs": [],
   "source": [
    "qs = pd.qcut(data_normal2, 10, labels=False)\n",
    "aa = []\n",
    "for ii in range(10):\n",
    "    aa.append(np.median(data_normal2[qs==ii]))\n",
    "fig.add_vrect(\n",
    "    x0=aa[9] + 0.8, x1=aa[9]+0.9,\n",
    "    fillcolor=\"limegreen\", opacity=0.7,\n",
    "    layer=\"above\", line_width=0,\n",
    ")\n",
    "\n",
    "for ii in range(0,9,1):\n",
    "    fig.add_vrect(\n",
    "    x0=aa[ii], x1=aa[ii] + 0.02,\n",
    "    fillcolor=\"limegreen\", opacity=0.3,\n",
    "    layer=\"above\", line_width=0)\n",
    "fig.add_vrect(\n",
    "    x0=aa[0], x1=aa[0] + 0.1,\n",
    "    fillcolor=\"limegreen\", opacity=0.7,\n",
    "    layer=\"above\", line_width=0,\n",
    ")\n",
    "qs = pd.qcut(data_normal, 10, labels=False)\n",
    "aa = []\n",
    "for ii in range(10):\n",
    "    aa.append(np.median(data_normal[qs==ii]))  \n",
    "fig.add_vrect(\n",
    "    x0=aa[9], x1=aa[9]+0.1,\n",
    "    fillcolor=\"crimson\", opacity=0.7,\n",
    "    layer=\"above\", line_width=0,\n",
    ")\n",
    "fig.add_vrect(\n",
    "    x0=aa[0], x1=aa[0]+0.1,\n",
    "    fillcolor=\"crimson\", opacity=0.7,\n",
    "    layer=\"above\", line_width=0,\n",
    ")\n",
    "for ii in range(0,9,1):\n",
    "    fig.add_vrect(\n",
    "    x0=aa[ii], x1=aa[ii] + 0.02,\n",
    "    fillcolor=\"crimson\", opacity=0.3,\n",
    "    layer=\"above\", line_width=0)\n",
    "fig.show()"
   ]
  },
  {
   "cell_type": "markdown",
   "metadata": {},
   "source": [
    "# SNR"
   ]
  },
  {
   "cell_type": "code",
   "execution_count": null,
   "metadata": {},
   "outputs": [],
   "source": [
    "colors = {'rth750':'rgba(255,8,30,1)','rthPRI':'rgba(255,117,0,1)','rthSKY':'rgba(255,220,0,1)',\n",
    "         'vendor750':'rgba(0,75,255,1)','vendorPRI':'rgba(24,231,234,1)','vendorSKY':'rgba(24,234,141,1)'}\n",
    "df = pd.DataFrame()"
   ]
  },
  {
   "cell_type": "code",
   "execution_count": null,
   "metadata": {},
   "outputs": [],
   "source": [
    "df['signal'] = [1649,240,264,793,2330,2379,767,110,117,362,1023,1016]\n",
    "df['noise'] = [1.68,0.34,0.33,0.66,1.64,1.65,1.66,0.32,0.34,0.6,1.72,1.71]\n",
    "df['session'] = [\"rth750\",\"rthPRI\",\"rthSKY\",\"vendor750\",\"vendorPRI\",\"vendorSKY\"]*2\n",
    "df['acq'] = [\"T1w\"]*6 + [\"PDw\"]*6 \n",
    "df['SNR'] = 10*np.log10(df['signal']/df['noise'])"
   ]
  },
  {
   "cell_type": "code",
   "execution_count": null,
   "metadata": {},
   "outputs": [],
   "source": [
    "len(df)"
   ]
  },
  {
   "cell_type": "code",
   "execution_count": null,
   "metadata": {},
   "outputs": [],
   "source": [
    "fig = go.Figure()\n",
    "\n",
    "aa = list(map(str,np.round(df['SNR'][0:6],2)))\n",
    "bb = np.core.defchararray.add(['<br>']*6,df['acq'][0:6])\n",
    "cc = np.core.defchararray.add(list(map(str,np.round(df['SNR'][0:6],2))), bb)\n",
    "fig.add_trace(go.Bar(\n",
    "        y=df['SNR'][0:6],\n",
    "        x=df[\"session\"][0:6],\n",
    "        name=\"T1w\",\n",
    "        text=cc,\n",
    "        textposition='auto',\n",
    "        marker_color= [colors[x] for x in df['session']]))\n",
    "aa = list(map(str,np.round(df['SNR'][6:12],2)))\n",
    "bb = np.core.defchararray.add(['<br>']*6,df['acq'][6:12])\n",
    "cc = np.core.defchararray.add(list(map(str,np.round(df['SNR'][6:12],2))), bb)\n",
    "fig.add_trace(go.Bar(\n",
    "        y=df['SNR'][6:12],\n",
    "        x=df[\"session\"][6:12],\n",
    "        textposition='auto',\n",
    "        text=cc,\n",
    "        name=\"PDw\",\n",
    "        marker_color=[colors[x] for x in df['session']]))\n",
    "fig.update_layout(barmode='group')\n",
    "fig.update_layout(height=300, width=1000)"
   ]
  },
  {
   "cell_type": "code",
   "execution_count": null,
   "metadata": {},
   "outputs": [],
   "source": [
    "plot(fig)"
   ]
  },
  {
   "cell_type": "code",
   "execution_count": null,
   "metadata": {},
   "outputs": [],
   "source": [
    "aa = list(map(str,np.round(df['SNR'][0:6],2)))\n",
    "bb = np.core.defchararray.add(['<br>']*6,df['acq'][0:6])\n",
    "np.core.defchararray.add(list(map(str,np.round(df['SNR'][0:6],2))), bb)"
   ]
  },
  {
   "cell_type": "code",
   "execution_count": null,
   "metadata": {},
   "outputs": [],
   "source": [
    "['<br>']*6"
   ]
  },
  {
   "cell_type": "code",
   "execution_count": null,
   "metadata": {},
   "outputs": [],
   "source": []
  }
 ],
 "metadata": {
  "kernelspec": {
   "display_name": "Python 3",
   "language": "python",
   "name": "python3"
  },
  "language_info": {
   "codemirror_mode": {
    "name": "ipython",
    "version": 3
   },
   "file_extension": ".py",
   "mimetype": "text/x-python",
   "name": "python",
   "nbconvert_exporter": "python",
   "pygments_lexer": "ipython3",
   "version": "3.6.12"
  }
 },
 "nbformat": 4,
 "nbformat_minor": 4
}
