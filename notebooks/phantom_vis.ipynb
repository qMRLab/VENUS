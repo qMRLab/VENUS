{
 "cells": [
  {
   "cell_type": "code",
   "execution_count": 1,
   "metadata": {},
   "outputs": [
    {
     "data": {
      "text/html": [
       "        <script type=\"text/javascript\">\n",
       "        window.PlotlyConfig = {MathJaxConfig: 'local'};\n",
       "        if (window.MathJax) {MathJax.Hub.Config({SVG: {font: \"STIX-Web\"}});}\n",
       "        if (typeof require !== 'undefined') {\n",
       "        require.undef(\"plotly\");\n",
       "        requirejs.config({\n",
       "            paths: {\n",
       "                'plotly': ['https://cdn.plot.ly/plotly-latest.min']\n",
       "            }\n",
       "        });\n",
       "        require(['plotly'], function(Plotly) {\n",
       "            window._Plotly = Plotly;\n",
       "        });\n",
       "        }\n",
       "        </script>\n",
       "        "
      ]
     },
     "metadata": {},
     "output_type": "display_data"
    }
   ],
   "source": [
    "import plotly.graph_objs as go\n",
    "import plotly.express as px\n",
    "from plotly import tools, subplots\n",
    "import numpy as np\n",
    "import pandas as pd\n",
    "import ipywidgets as widgets\n",
    "import math\n",
    "from plotly.offline import download_plotlyjs, init_notebook_mode, plot, iplot\n",
    "from ipywidgets import interact, interactive, fixed, interact_manual\n",
    "init_notebook_mode(connected=True)\n",
    "import scipy.io as sio\n",
    "import pickle"
   ]
  },
  {
   "cell_type": "markdown",
   "metadata": {},
   "source": [
    "## T1 values Before B1 correction"
   ]
  },
  {
   "cell_type": "code",
   "execution_count": 20,
   "metadata": {},
   "outputs": [
    {
     "data": {
      "text/plain": [
       "'temp-plot.html'"
      ]
     },
     "execution_count": 20,
     "metadata": {},
     "output_type": "execute_result"
    }
   ],
   "source": [
    "derivativesDir = '/Users/agah/Desktop/KuzuData/PHD_DATA/ds-venus/derivatives/qMRLab/sub-phantom/'\n",
    "\n",
    "spheres = [1, 2, 3, 4, 5, 6, 7, 8, 9, 10]\n",
    "refMean = [1.989,1.454,0.9841,0.706,0.4967,0.3515,0.24713,0.1753,0.1259,0.089]\n",
    "\n",
    "\n",
    "sessions = ['rth750retest','rth750test','rthPRIretest','rthPRItest','rthSKYretest','rthSKYtest',\n",
    "        'vendor750retest','vendor750test','vendorPRIretest','vendorPRItest','vendorSKYretest','vendorSKYtest']\n",
    "\n",
    "convert_tag = {'rth750':'G1<sub>neutral</sub>','rthPRI':'S1<sub>neutral</sub>','rthSKY':'S2<sub>neutral</sub>',\n",
    "               'vendor750':'G1<sub>native</sub>','vendorPRI':'S1<sub>native</sub>','vendorSKY':'S2<sub>native</sub>'\n",
    "              }\n",
    "# 'rth750':\n",
    "colors = {'rth750':'rgba(255,8,30,1)','rthPRI':'rgba(255,117,0,1)','rthSKY':'rgba(255,220,0,1)',\n",
    "         'vendor750':'rgba(13,186,233,1)','vendorPRI':'rgba(2.5,187,180,1)','vendorSKY':'rgba(0,248,205,1)'}\n",
    "\n",
    "colors_line = {'rth750':'rgba(255,8,30,0.2)','rthPRI':'rgba(255,117,0,0.2)','rthSKY':'rgba(255,220,0,0.2)',\n",
    "         'vendor750':'rgba(13,186,233,0.2)','vendorPRI':'rgba(2.5,187,180,0.2)','vendorSKY':'rgba(0,248,205,0.2)'}\n",
    "\n",
    "\n",
    "line_dash = {'rth750':'dash','rthPRI':'dash','rthSKY':'dash',\n",
    "         'vendor750':'solid','vendorPRI':'solid','vendorSKY':'solid'}\n",
    "\n",
    "line_sym = {'rth750':'circle','rthPRI':'circle','rthSKY':'circle',\n",
    "         'vendor750':'square','vendorPRI':'square','vendorSKY':'square'}\n",
    "\n",
    "df = pd.DataFrame()\n",
    "\n",
    "fig = go.Figure()\n",
    "\n",
    "\n",
    "for jj in range(0,len(sessions),2):\n",
    "    avg_array  = []\n",
    "    std_array  =  []\n",
    "    for ii in range(len(spheres)):\n",
    "        # Each one of these contains B1, MTsat, T1 and T1cor\n",
    "        cur_sphere_test = derivativesDir + 'ses-' + sessions[jj] + '/stat/sub-phantom_ses-' + sessions[jj] + '_desc-sphere' + str(spheres[ii]) + '_metrics.mat'\n",
    "        cur_sphere_retest = derivativesDir + 'ses-' + sessions[jj+1] + '/stat/sub-phantom_ses-' + sessions[jj+1] + '_desc-sphere' + str(spheres[ii]) + '_metrics.mat'\n",
    "        cur_contents_test = sio.loadmat(cur_sphere_test)\n",
    "        cur_contents_retest = sio.loadmat(cur_sphere_retest)\n",
    "        cur_tag = sessions[jj][0:-6]\n",
    "        avg_array.append(np.mean([cur_contents_test['T1'].flatten().mean(),cur_contents_retest['T1'].flatten().mean()]))\n",
    "        std_array.append(np.mean([cur_contents_test['T1'].flatten().std(),cur_contents_retest['T1'].flatten().std()]))\n",
    "    df[cur_tag + '_mean'] = avg_array\n",
    "    df[cur_tag + '_std'] = std_array\n",
    "    upper = list(np.squeeze(np.array(avg_array)) + np.squeeze(np.array(std_array)))\n",
    "    lower = list(np.squeeze(np.array(avg_array)) - np.squeeze(np.array(std_array)))\n",
    "    # Add std lines\n",
    "    fig.add_trace(go.Scatter(\n",
    "    x= spheres + spheres[::-1],\n",
    "    y=upper+lower[::-1],\n",
    "    fill='toself',\n",
    "    fillcolor= colors_line[cur_tag],\n",
    "    line_color='rgba(255,0,0,0)',\n",
    "    name= convert_tag[cur_tag],\n",
    "    ))\n",
    "    # Add markers\n",
    "    fig.add_trace(go.Scatter(\n",
    "    x=spheres, y=avg_array,\n",
    "    line_color=colors[cur_tag],\n",
    "    name= convert_tag[cur_tag],\n",
    "    marker = dict(size=20,symbol=line_sym[cur_tag],line=dict(color='black',width=1.5),opacity=0.85),\n",
    "    line=dict(width=2, dash=line_dash[cur_tag]),\n",
    "    line_shape='spline'\n",
    "    ))\n",
    "\n",
    "\n",
    "\n",
    "# Theme change\n",
    "fig.update_layout(height=800, width=1300, paper_bgcolor='#000000',plot_bgcolor='#000000')\n",
    "\n",
    "#fig.update_layout(height=800, width=1000)\n",
    "fig.update_layout(legend=dict(x=1, y=1,tracegroupgap=300,font=dict(color=\"white\")))\n",
    "axis_template = dict(linecolor = 'black', showticklabels = True,\n",
    "             tickfont=dict(color=\"white\"), gridcolor = 'black',zerolinecolor = 'rgb(40,40,40)' )\n",
    "fig.update_xaxes(axis_template)\n",
    "\n",
    "# Theme change\n",
    "fig.update_yaxes(axis_template,gridcolor = 'rgb(100,100,100)')\n",
    "\n",
    "plot_y = [2.5,1.989,1.454,0.9841,0.706,0.4967,0.3515,0.24713,0.1753,0.1259,0.089]\n",
    "\n",
    "fig.update_yaxes(tickvals=np.round(plot_y,2),range=[0,2.38])\n",
    "fig.update_xaxes(tickvals=spheres)\n",
    "fig.update_layout(title='',title_font_color=\"white\",margin=dict(l=0,r=0,t=0,b=0))\n",
    "\n",
    "\n",
    "avg_array = [2.03,1.39,0.93,0.63, 0.42, 0.29, 0.22, 0.18, 0.14, 0.11 ]\n",
    "std_array = [0.09, 0.04, 0.02, 0.01, 0.02,0.01, 0.01, 0.01, 0.01, 0.01 ]\n",
    "upper = list(np.squeeze(np.array(avg_array)) + np.squeeze(np.array(std_array)))\n",
    "lower = list(np.squeeze(np.array(avg_array)) - np.squeeze(np.array(std_array)))\n",
    "# Add std lines\n",
    "fig.add_trace(go.Scatter(\n",
    "x= spheres + spheres[::-1],\n",
    "y=upper+lower[::-1],\n",
    "fill='toself',\n",
    "fillcolor= colors_line['rth750'],\n",
    "line_color='rgba(255,0,0,0)',\n",
    "name= convert_tag['rth750'],\n",
    "))\n",
    "# Add markers\n",
    "fig.add_trace(go.Scatter(\n",
    "x=spheres, y=avg_array,\n",
    "line_color=colors['rth750'],\n",
    "name= 'rth750new',\n",
    "marker = dict(size=20,symbol=line_sym['rth750'],line=dict(color='black',width=1.5),opacity=0.85),\n",
    "line=dict(width=2, dash=line_dash['rth750']),\n",
    "line_shape='spline'\n",
    "))\n",
    "\n",
    "\n",
    "fig.add_trace(go.Scatter(\n",
    "    x=spheres, y=refMean,\n",
    "    line_color='white',\n",
    "    mode = 'markers',\n",
    "    name = 'Reference',\n",
    "    marker = dict(size=25,symbol='cross-open',line = dict(width=2))\n",
    "\n",
    "))\n",
    "\n",
    "\n",
    "\n",
    "plot(fig)"
   ]
  },
  {
   "cell_type": "code",
   "execution_count": null,
   "metadata": {},
   "outputs": [],
   "source": [
    "## AVG"
   ]
  },
  {
   "cell_type": "code",
   "execution_count": 2,
   "metadata": {},
   "outputs": [
    {
     "data": {
      "application/vnd.plotly.v1+json": {
       "config": {
        "plotlyServerURL": "https://plot.ly"
       },
       "data": [
        {
         "fill": "toself",
         "fillcolor": "rgba(247,202,171,0.3)",
         "line": {
          "color": "rgba(255,0,0,0)"
         },
         "name": "neutral",
         "type": "scatter",
         "x": [
          1,
          2,
          3,
          4,
          5,
          6,
          7,
          8,
          9,
          10,
          10,
          9,
          8,
          7,
          6,
          5,
          4,
          3,
          2,
          1
         ],
         "y": [
          1.9755117072130142,
          1.358637296183255,
          0.93945717926285,
          0.6432259847524202,
          0.43626321658824335,
          0.30297738941510105,
          0.2388099708835722,
          0.1957642377147862,
          0.14509123773934904,
          0.09982248412543658,
          0.09800180073950036,
          0.14384970429505414,
          0.1934561023684437,
          0.23518038404465452,
          0.30091919169300035,
          0.4319880691550509,
          0.6367179099092322,
          0.9280464204841877,
          1.3393693391376396,
          1.9397629476750569
         ]
        },
        {
         "line": {
          "color": "black"
         },
         "marker": {
          "line": {
           "width": 2
          },
          "size": 25,
          "symbol": "cross-open"
         },
         "mode": "markers",
         "name": "Reference",
         "type": "scatter",
         "x": [
          1,
          2,
          3,
          4,
          5,
          6,
          7,
          8,
          9,
          10
         ],
         "y": [
          1.989,
          1.454,
          0.9841,
          0.706,
          0.4967,
          0.3515,
          0.24713,
          0.1753,
          0.1259,
          0.089
         ]
        },
        {
         "line": {
          "color": "rgba(247,0,0,1)",
          "dash": "dash",
          "shape": "spline",
          "width": 2
         },
         "marker": {
          "line": {
           "color": "black",
           "width": 1.5
          },
          "opacity": 0.9,
          "size": 20,
          "symbol": "circle"
         },
         "name": "neutral",
         "type": "scatter",
         "x": [
          1,
          2,
          3,
          4,
          5,
          6,
          7,
          8,
          9,
          10
         ],
         "y": [
          1.9576373274440355,
          1.3490033176604472,
          0.9337517998735189,
          0.6399719473308262,
          0.4341256428716471,
          0.3019482905540507,
          0.23699517746411336,
          0.19461017004161496,
          0.1444704710172016,
          0.09891214243246847
         ]
        }
       ],
       "layout": {
        "template": {
         "data": {
          "bar": [
           {
            "error_x": {
             "color": "#2a3f5f"
            },
            "error_y": {
             "color": "#2a3f5f"
            },
            "marker": {
             "line": {
              "color": "#E5ECF6",
              "width": 0.5
             }
            },
            "type": "bar"
           }
          ],
          "barpolar": [
           {
            "marker": {
             "line": {
              "color": "#E5ECF6",
              "width": 0.5
             }
            },
            "type": "barpolar"
           }
          ],
          "carpet": [
           {
            "aaxis": {
             "endlinecolor": "#2a3f5f",
             "gridcolor": "white",
             "linecolor": "white",
             "minorgridcolor": "white",
             "startlinecolor": "#2a3f5f"
            },
            "baxis": {
             "endlinecolor": "#2a3f5f",
             "gridcolor": "white",
             "linecolor": "white",
             "minorgridcolor": "white",
             "startlinecolor": "#2a3f5f"
            },
            "type": "carpet"
           }
          ],
          "choropleth": [
           {
            "colorbar": {
             "outlinewidth": 0,
             "ticks": ""
            },
            "type": "choropleth"
           }
          ],
          "contour": [
           {
            "colorbar": {
             "outlinewidth": 0,
             "ticks": ""
            },
            "colorscale": [
             [
              0,
              "#0d0887"
             ],
             [
              0.1111111111111111,
              "#46039f"
             ],
             [
              0.2222222222222222,
              "#7201a8"
             ],
             [
              0.3333333333333333,
              "#9c179e"
             ],
             [
              0.4444444444444444,
              "#bd3786"
             ],
             [
              0.5555555555555556,
              "#d8576b"
             ],
             [
              0.6666666666666666,
              "#ed7953"
             ],
             [
              0.7777777777777778,
              "#fb9f3a"
             ],
             [
              0.8888888888888888,
              "#fdca26"
             ],
             [
              1,
              "#f0f921"
             ]
            ],
            "type": "contour"
           }
          ],
          "contourcarpet": [
           {
            "colorbar": {
             "outlinewidth": 0,
             "ticks": ""
            },
            "type": "contourcarpet"
           }
          ],
          "heatmap": [
           {
            "colorbar": {
             "outlinewidth": 0,
             "ticks": ""
            },
            "colorscale": [
             [
              0,
              "#0d0887"
             ],
             [
              0.1111111111111111,
              "#46039f"
             ],
             [
              0.2222222222222222,
              "#7201a8"
             ],
             [
              0.3333333333333333,
              "#9c179e"
             ],
             [
              0.4444444444444444,
              "#bd3786"
             ],
             [
              0.5555555555555556,
              "#d8576b"
             ],
             [
              0.6666666666666666,
              "#ed7953"
             ],
             [
              0.7777777777777778,
              "#fb9f3a"
             ],
             [
              0.8888888888888888,
              "#fdca26"
             ],
             [
              1,
              "#f0f921"
             ]
            ],
            "type": "heatmap"
           }
          ],
          "heatmapgl": [
           {
            "colorbar": {
             "outlinewidth": 0,
             "ticks": ""
            },
            "colorscale": [
             [
              0,
              "#0d0887"
             ],
             [
              0.1111111111111111,
              "#46039f"
             ],
             [
              0.2222222222222222,
              "#7201a8"
             ],
             [
              0.3333333333333333,
              "#9c179e"
             ],
             [
              0.4444444444444444,
              "#bd3786"
             ],
             [
              0.5555555555555556,
              "#d8576b"
             ],
             [
              0.6666666666666666,
              "#ed7953"
             ],
             [
              0.7777777777777778,
              "#fb9f3a"
             ],
             [
              0.8888888888888888,
              "#fdca26"
             ],
             [
              1,
              "#f0f921"
             ]
            ],
            "type": "heatmapgl"
           }
          ],
          "histogram": [
           {
            "marker": {
             "colorbar": {
              "outlinewidth": 0,
              "ticks": ""
             }
            },
            "type": "histogram"
           }
          ],
          "histogram2d": [
           {
            "colorbar": {
             "outlinewidth": 0,
             "ticks": ""
            },
            "colorscale": [
             [
              0,
              "#0d0887"
             ],
             [
              0.1111111111111111,
              "#46039f"
             ],
             [
              0.2222222222222222,
              "#7201a8"
             ],
             [
              0.3333333333333333,
              "#9c179e"
             ],
             [
              0.4444444444444444,
              "#bd3786"
             ],
             [
              0.5555555555555556,
              "#d8576b"
             ],
             [
              0.6666666666666666,
              "#ed7953"
             ],
             [
              0.7777777777777778,
              "#fb9f3a"
             ],
             [
              0.8888888888888888,
              "#fdca26"
             ],
             [
              1,
              "#f0f921"
             ]
            ],
            "type": "histogram2d"
           }
          ],
          "histogram2dcontour": [
           {
            "colorbar": {
             "outlinewidth": 0,
             "ticks": ""
            },
            "colorscale": [
             [
              0,
              "#0d0887"
             ],
             [
              0.1111111111111111,
              "#46039f"
             ],
             [
              0.2222222222222222,
              "#7201a8"
             ],
             [
              0.3333333333333333,
              "#9c179e"
             ],
             [
              0.4444444444444444,
              "#bd3786"
             ],
             [
              0.5555555555555556,
              "#d8576b"
             ],
             [
              0.6666666666666666,
              "#ed7953"
             ],
             [
              0.7777777777777778,
              "#fb9f3a"
             ],
             [
              0.8888888888888888,
              "#fdca26"
             ],
             [
              1,
              "#f0f921"
             ]
            ],
            "type": "histogram2dcontour"
           }
          ],
          "mesh3d": [
           {
            "colorbar": {
             "outlinewidth": 0,
             "ticks": ""
            },
            "type": "mesh3d"
           }
          ],
          "parcoords": [
           {
            "line": {
             "colorbar": {
              "outlinewidth": 0,
              "ticks": ""
             }
            },
            "type": "parcoords"
           }
          ],
          "pie": [
           {
            "automargin": true,
            "type": "pie"
           }
          ],
          "scatter": [
           {
            "marker": {
             "colorbar": {
              "outlinewidth": 0,
              "ticks": ""
             }
            },
            "type": "scatter"
           }
          ],
          "scatter3d": [
           {
            "line": {
             "colorbar": {
              "outlinewidth": 0,
              "ticks": ""
             }
            },
            "marker": {
             "colorbar": {
              "outlinewidth": 0,
              "ticks": ""
             }
            },
            "type": "scatter3d"
           }
          ],
          "scattercarpet": [
           {
            "marker": {
             "colorbar": {
              "outlinewidth": 0,
              "ticks": ""
             }
            },
            "type": "scattercarpet"
           }
          ],
          "scattergeo": [
           {
            "marker": {
             "colorbar": {
              "outlinewidth": 0,
              "ticks": ""
             }
            },
            "type": "scattergeo"
           }
          ],
          "scattergl": [
           {
            "marker": {
             "colorbar": {
              "outlinewidth": 0,
              "ticks": ""
             }
            },
            "type": "scattergl"
           }
          ],
          "scattermapbox": [
           {
            "marker": {
             "colorbar": {
              "outlinewidth": 0,
              "ticks": ""
             }
            },
            "type": "scattermapbox"
           }
          ],
          "scatterpolar": [
           {
            "marker": {
             "colorbar": {
              "outlinewidth": 0,
              "ticks": ""
             }
            },
            "type": "scatterpolar"
           }
          ],
          "scatterpolargl": [
           {
            "marker": {
             "colorbar": {
              "outlinewidth": 0,
              "ticks": ""
             }
            },
            "type": "scatterpolargl"
           }
          ],
          "scatterternary": [
           {
            "marker": {
             "colorbar": {
              "outlinewidth": 0,
              "ticks": ""
             }
            },
            "type": "scatterternary"
           }
          ],
          "surface": [
           {
            "colorbar": {
             "outlinewidth": 0,
             "ticks": ""
            },
            "colorscale": [
             [
              0,
              "#0d0887"
             ],
             [
              0.1111111111111111,
              "#46039f"
             ],
             [
              0.2222222222222222,
              "#7201a8"
             ],
             [
              0.3333333333333333,
              "#9c179e"
             ],
             [
              0.4444444444444444,
              "#bd3786"
             ],
             [
              0.5555555555555556,
              "#d8576b"
             ],
             [
              0.6666666666666666,
              "#ed7953"
             ],
             [
              0.7777777777777778,
              "#fb9f3a"
             ],
             [
              0.8888888888888888,
              "#fdca26"
             ],
             [
              1,
              "#f0f921"
             ]
            ],
            "type": "surface"
           }
          ],
          "table": [
           {
            "cells": {
             "fill": {
              "color": "#EBF0F8"
             },
             "line": {
              "color": "white"
             }
            },
            "header": {
             "fill": {
              "color": "#C8D4E3"
             },
             "line": {
              "color": "white"
             }
            },
            "type": "table"
           }
          ]
         },
         "layout": {
          "annotationdefaults": {
           "arrowcolor": "#2a3f5f",
           "arrowhead": 0,
           "arrowwidth": 1
          },
          "autotypenumbers": "strict",
          "coloraxis": {
           "colorbar": {
            "outlinewidth": 0,
            "ticks": ""
           }
          },
          "colorscale": {
           "diverging": [
            [
             0,
             "#8e0152"
            ],
            [
             0.1,
             "#c51b7d"
            ],
            [
             0.2,
             "#de77ae"
            ],
            [
             0.3,
             "#f1b6da"
            ],
            [
             0.4,
             "#fde0ef"
            ],
            [
             0.5,
             "#f7f7f7"
            ],
            [
             0.6,
             "#e6f5d0"
            ],
            [
             0.7,
             "#b8e186"
            ],
            [
             0.8,
             "#7fbc41"
            ],
            [
             0.9,
             "#4d9221"
            ],
            [
             1,
             "#276419"
            ]
           ],
           "sequential": [
            [
             0,
             "#0d0887"
            ],
            [
             0.1111111111111111,
             "#46039f"
            ],
            [
             0.2222222222222222,
             "#7201a8"
            ],
            [
             0.3333333333333333,
             "#9c179e"
            ],
            [
             0.4444444444444444,
             "#bd3786"
            ],
            [
             0.5555555555555556,
             "#d8576b"
            ],
            [
             0.6666666666666666,
             "#ed7953"
            ],
            [
             0.7777777777777778,
             "#fb9f3a"
            ],
            [
             0.8888888888888888,
             "#fdca26"
            ],
            [
             1,
             "#f0f921"
            ]
           ],
           "sequentialminus": [
            [
             0,
             "#0d0887"
            ],
            [
             0.1111111111111111,
             "#46039f"
            ],
            [
             0.2222222222222222,
             "#7201a8"
            ],
            [
             0.3333333333333333,
             "#9c179e"
            ],
            [
             0.4444444444444444,
             "#bd3786"
            ],
            [
             0.5555555555555556,
             "#d8576b"
            ],
            [
             0.6666666666666666,
             "#ed7953"
            ],
            [
             0.7777777777777778,
             "#fb9f3a"
            ],
            [
             0.8888888888888888,
             "#fdca26"
            ],
            [
             1,
             "#f0f921"
            ]
           ]
          },
          "colorway": [
           "#636efa",
           "#EF553B",
           "#00cc96",
           "#ab63fa",
           "#FFA15A",
           "#19d3f3",
           "#FF6692",
           "#B6E880",
           "#FF97FF",
           "#FECB52"
          ],
          "font": {
           "color": "#2a3f5f"
          },
          "geo": {
           "bgcolor": "white",
           "lakecolor": "white",
           "landcolor": "#E5ECF6",
           "showlakes": true,
           "showland": true,
           "subunitcolor": "white"
          },
          "hoverlabel": {
           "align": "left"
          },
          "hovermode": "closest",
          "mapbox": {
           "style": "light"
          },
          "paper_bgcolor": "white",
          "plot_bgcolor": "#E5ECF6",
          "polar": {
           "angularaxis": {
            "gridcolor": "white",
            "linecolor": "white",
            "ticks": ""
           },
           "bgcolor": "#E5ECF6",
           "radialaxis": {
            "gridcolor": "white",
            "linecolor": "white",
            "ticks": ""
           }
          },
          "scene": {
           "xaxis": {
            "backgroundcolor": "#E5ECF6",
            "gridcolor": "white",
            "gridwidth": 2,
            "linecolor": "white",
            "showbackground": true,
            "ticks": "",
            "zerolinecolor": "white"
           },
           "yaxis": {
            "backgroundcolor": "#E5ECF6",
            "gridcolor": "white",
            "gridwidth": 2,
            "linecolor": "white",
            "showbackground": true,
            "ticks": "",
            "zerolinecolor": "white"
           },
           "zaxis": {
            "backgroundcolor": "#E5ECF6",
            "gridcolor": "white",
            "gridwidth": 2,
            "linecolor": "white",
            "showbackground": true,
            "ticks": "",
            "zerolinecolor": "white"
           }
          },
          "shapedefaults": {
           "line": {
            "color": "#2a3f5f"
           }
          },
          "ternary": {
           "aaxis": {
            "gridcolor": "white",
            "linecolor": "white",
            "ticks": ""
           },
           "baxis": {
            "gridcolor": "white",
            "linecolor": "white",
            "ticks": ""
           },
           "bgcolor": "#E5ECF6",
           "caxis": {
            "gridcolor": "white",
            "linecolor": "white",
            "ticks": ""
           }
          },
          "title": {
           "x": 0.05
          },
          "xaxis": {
           "automargin": true,
           "gridcolor": "white",
           "linecolor": "white",
           "ticks": "",
           "title": {
            "standoff": 15
           },
           "zerolinecolor": "white",
           "zerolinewidth": 2
          },
          "yaxis": {
           "automargin": true,
           "gridcolor": "white",
           "linecolor": "white",
           "ticks": "",
           "title": {
            "standoff": 15
           },
           "zerolinecolor": "white",
           "zerolinewidth": 2
          }
         }
        }
       }
      },
      "text/html": [
       "<div>                            <div id=\"3e5af8ab-a317-4c4d-8321-71cf0697cb68\" class=\"plotly-graph-div\" style=\"height:525px; width:100%;\"></div>            <script type=\"text/javascript\">                require([\"plotly\"], function(Plotly) {                    window.PLOTLYENV=window.PLOTLYENV || {};                                    if (document.getElementById(\"3e5af8ab-a317-4c4d-8321-71cf0697cb68\")) {                    Plotly.newPlot(                        \"3e5af8ab-a317-4c4d-8321-71cf0697cb68\",                        [{\"fill\": \"toself\", \"fillcolor\": \"rgba(247,202,171,0.3)\", \"line\": {\"color\": \"rgba(255,0,0,0)\"}, \"name\": \"neutral\", \"type\": \"scatter\", \"x\": [1, 2, 3, 4, 5, 6, 7, 8, 9, 10, 10, 9, 8, 7, 6, 5, 4, 3, 2, 1], \"y\": [1.9755117072130142, 1.358637296183255, 0.93945717926285, 0.6432259847524202, 0.43626321658824335, 0.30297738941510105, 0.2388099708835722, 0.1957642377147862, 0.14509123773934904, 0.09982248412543658, 0.09800180073950036, 0.14384970429505414, 0.1934561023684437, 0.23518038404465452, 0.30091919169300035, 0.4319880691550509, 0.6367179099092322, 0.9280464204841877, 1.3393693391376396, 1.9397629476750569]}, {\"line\": {\"color\": \"black\"}, \"marker\": {\"line\": {\"width\": 2}, \"size\": 25, \"symbol\": \"cross-open\"}, \"mode\": \"markers\", \"name\": \"Reference\", \"type\": \"scatter\", \"x\": [1, 2, 3, 4, 5, 6, 7, 8, 9, 10], \"y\": [1.989, 1.454, 0.9841, 0.706, 0.4967, 0.3515, 0.24713, 0.1753, 0.1259, 0.089]}, {\"line\": {\"color\": \"rgba(247,0,0,1)\", \"dash\": \"dash\", \"shape\": \"spline\", \"width\": 2}, \"marker\": {\"line\": {\"color\": \"black\", \"width\": 1.5}, \"opacity\": 0.9, \"size\": 20, \"symbol\": \"circle\"}, \"name\": \"neutral\", \"type\": \"scatter\", \"x\": [1, 2, 3, 4, 5, 6, 7, 8, 9, 10], \"y\": [1.9576373274440355, 1.3490033176604472, 0.9337517998735189, 0.6399719473308262, 0.4341256428716471, 0.3019482905540507, 0.23699517746411336, 0.19461017004161496, 0.1444704710172016, 0.09891214243246847]}],                        {\"template\": {\"data\": {\"bar\": [{\"error_x\": {\"color\": \"#2a3f5f\"}, \"error_y\": {\"color\": \"#2a3f5f\"}, \"marker\": {\"line\": {\"color\": \"#E5ECF6\", \"width\": 0.5}}, \"type\": \"bar\"}], \"barpolar\": [{\"marker\": {\"line\": {\"color\": \"#E5ECF6\", \"width\": 0.5}}, \"type\": \"barpolar\"}], \"carpet\": [{\"aaxis\": {\"endlinecolor\": \"#2a3f5f\", \"gridcolor\": \"white\", \"linecolor\": \"white\", \"minorgridcolor\": \"white\", \"startlinecolor\": \"#2a3f5f\"}, \"baxis\": {\"endlinecolor\": \"#2a3f5f\", \"gridcolor\": \"white\", \"linecolor\": \"white\", \"minorgridcolor\": \"white\", \"startlinecolor\": \"#2a3f5f\"}, \"type\": \"carpet\"}], \"choropleth\": [{\"colorbar\": {\"outlinewidth\": 0, \"ticks\": \"\"}, \"type\": \"choropleth\"}], \"contour\": [{\"colorbar\": {\"outlinewidth\": 0, \"ticks\": \"\"}, \"colorscale\": [[0.0, \"#0d0887\"], [0.1111111111111111, \"#46039f\"], [0.2222222222222222, \"#7201a8\"], [0.3333333333333333, \"#9c179e\"], [0.4444444444444444, \"#bd3786\"], [0.5555555555555556, \"#d8576b\"], [0.6666666666666666, \"#ed7953\"], [0.7777777777777778, \"#fb9f3a\"], [0.8888888888888888, \"#fdca26\"], [1.0, \"#f0f921\"]], \"type\": \"contour\"}], \"contourcarpet\": [{\"colorbar\": {\"outlinewidth\": 0, \"ticks\": \"\"}, \"type\": \"contourcarpet\"}], \"heatmap\": [{\"colorbar\": {\"outlinewidth\": 0, \"ticks\": \"\"}, \"colorscale\": [[0.0, \"#0d0887\"], [0.1111111111111111, \"#46039f\"], [0.2222222222222222, \"#7201a8\"], [0.3333333333333333, \"#9c179e\"], [0.4444444444444444, \"#bd3786\"], [0.5555555555555556, \"#d8576b\"], [0.6666666666666666, \"#ed7953\"], [0.7777777777777778, \"#fb9f3a\"], [0.8888888888888888, \"#fdca26\"], [1.0, \"#f0f921\"]], \"type\": \"heatmap\"}], \"heatmapgl\": [{\"colorbar\": {\"outlinewidth\": 0, \"ticks\": \"\"}, \"colorscale\": [[0.0, \"#0d0887\"], [0.1111111111111111, \"#46039f\"], [0.2222222222222222, \"#7201a8\"], [0.3333333333333333, \"#9c179e\"], [0.4444444444444444, \"#bd3786\"], [0.5555555555555556, \"#d8576b\"], [0.6666666666666666, \"#ed7953\"], [0.7777777777777778, \"#fb9f3a\"], [0.8888888888888888, \"#fdca26\"], [1.0, \"#f0f921\"]], \"type\": \"heatmapgl\"}], \"histogram\": [{\"marker\": {\"colorbar\": {\"outlinewidth\": 0, \"ticks\": \"\"}}, \"type\": \"histogram\"}], \"histogram2d\": [{\"colorbar\": {\"outlinewidth\": 0, \"ticks\": \"\"}, \"colorscale\": [[0.0, \"#0d0887\"], [0.1111111111111111, \"#46039f\"], [0.2222222222222222, \"#7201a8\"], [0.3333333333333333, \"#9c179e\"], [0.4444444444444444, \"#bd3786\"], [0.5555555555555556, \"#d8576b\"], [0.6666666666666666, \"#ed7953\"], [0.7777777777777778, \"#fb9f3a\"], [0.8888888888888888, \"#fdca26\"], [1.0, \"#f0f921\"]], \"type\": \"histogram2d\"}], \"histogram2dcontour\": [{\"colorbar\": {\"outlinewidth\": 0, \"ticks\": \"\"}, \"colorscale\": [[0.0, \"#0d0887\"], [0.1111111111111111, \"#46039f\"], [0.2222222222222222, \"#7201a8\"], [0.3333333333333333, \"#9c179e\"], [0.4444444444444444, \"#bd3786\"], [0.5555555555555556, \"#d8576b\"], [0.6666666666666666, \"#ed7953\"], [0.7777777777777778, \"#fb9f3a\"], [0.8888888888888888, \"#fdca26\"], [1.0, \"#f0f921\"]], \"type\": \"histogram2dcontour\"}], \"mesh3d\": [{\"colorbar\": {\"outlinewidth\": 0, \"ticks\": \"\"}, \"type\": \"mesh3d\"}], \"parcoords\": [{\"line\": {\"colorbar\": {\"outlinewidth\": 0, \"ticks\": \"\"}}, \"type\": \"parcoords\"}], \"pie\": [{\"automargin\": true, \"type\": \"pie\"}], \"scatter\": [{\"marker\": {\"colorbar\": {\"outlinewidth\": 0, \"ticks\": \"\"}}, \"type\": \"scatter\"}], \"scatter3d\": [{\"line\": {\"colorbar\": {\"outlinewidth\": 0, \"ticks\": \"\"}}, \"marker\": {\"colorbar\": {\"outlinewidth\": 0, \"ticks\": \"\"}}, \"type\": \"scatter3d\"}], \"scattercarpet\": [{\"marker\": {\"colorbar\": {\"outlinewidth\": 0, \"ticks\": \"\"}}, \"type\": \"scattercarpet\"}], \"scattergeo\": [{\"marker\": {\"colorbar\": {\"outlinewidth\": 0, \"ticks\": \"\"}}, \"type\": \"scattergeo\"}], \"scattergl\": [{\"marker\": {\"colorbar\": {\"outlinewidth\": 0, \"ticks\": \"\"}}, \"type\": \"scattergl\"}], \"scattermapbox\": [{\"marker\": {\"colorbar\": {\"outlinewidth\": 0, \"ticks\": \"\"}}, \"type\": \"scattermapbox\"}], \"scatterpolar\": [{\"marker\": {\"colorbar\": {\"outlinewidth\": 0, \"ticks\": \"\"}}, \"type\": \"scatterpolar\"}], \"scatterpolargl\": [{\"marker\": {\"colorbar\": {\"outlinewidth\": 0, \"ticks\": \"\"}}, \"type\": \"scatterpolargl\"}], \"scatterternary\": [{\"marker\": {\"colorbar\": {\"outlinewidth\": 0, \"ticks\": \"\"}}, \"type\": \"scatterternary\"}], \"surface\": [{\"colorbar\": {\"outlinewidth\": 0, \"ticks\": \"\"}, \"colorscale\": [[0.0, \"#0d0887\"], [0.1111111111111111, \"#46039f\"], [0.2222222222222222, \"#7201a8\"], [0.3333333333333333, \"#9c179e\"], [0.4444444444444444, \"#bd3786\"], [0.5555555555555556, \"#d8576b\"], [0.6666666666666666, \"#ed7953\"], [0.7777777777777778, \"#fb9f3a\"], [0.8888888888888888, \"#fdca26\"], [1.0, \"#f0f921\"]], \"type\": \"surface\"}], \"table\": [{\"cells\": {\"fill\": {\"color\": \"#EBF0F8\"}, \"line\": {\"color\": \"white\"}}, \"header\": {\"fill\": {\"color\": \"#C8D4E3\"}, \"line\": {\"color\": \"white\"}}, \"type\": \"table\"}]}, \"layout\": {\"annotationdefaults\": {\"arrowcolor\": \"#2a3f5f\", \"arrowhead\": 0, \"arrowwidth\": 1}, \"autotypenumbers\": \"strict\", \"coloraxis\": {\"colorbar\": {\"outlinewidth\": 0, \"ticks\": \"\"}}, \"colorscale\": {\"diverging\": [[0, \"#8e0152\"], [0.1, \"#c51b7d\"], [0.2, \"#de77ae\"], [0.3, \"#f1b6da\"], [0.4, \"#fde0ef\"], [0.5, \"#f7f7f7\"], [0.6, \"#e6f5d0\"], [0.7, \"#b8e186\"], [0.8, \"#7fbc41\"], [0.9, \"#4d9221\"], [1, \"#276419\"]], \"sequential\": [[0.0, \"#0d0887\"], [0.1111111111111111, \"#46039f\"], [0.2222222222222222, \"#7201a8\"], [0.3333333333333333, \"#9c179e\"], [0.4444444444444444, \"#bd3786\"], [0.5555555555555556, \"#d8576b\"], [0.6666666666666666, \"#ed7953\"], [0.7777777777777778, \"#fb9f3a\"], [0.8888888888888888, \"#fdca26\"], [1.0, \"#f0f921\"]], \"sequentialminus\": [[0.0, \"#0d0887\"], [0.1111111111111111, \"#46039f\"], [0.2222222222222222, \"#7201a8\"], [0.3333333333333333, \"#9c179e\"], [0.4444444444444444, \"#bd3786\"], [0.5555555555555556, \"#d8576b\"], [0.6666666666666666, \"#ed7953\"], [0.7777777777777778, \"#fb9f3a\"], [0.8888888888888888, \"#fdca26\"], [1.0, \"#f0f921\"]]}, \"colorway\": [\"#636efa\", \"#EF553B\", \"#00cc96\", \"#ab63fa\", \"#FFA15A\", \"#19d3f3\", \"#FF6692\", \"#B6E880\", \"#FF97FF\", \"#FECB52\"], \"font\": {\"color\": \"#2a3f5f\"}, \"geo\": {\"bgcolor\": \"white\", \"lakecolor\": \"white\", \"landcolor\": \"#E5ECF6\", \"showlakes\": true, \"showland\": true, \"subunitcolor\": \"white\"}, \"hoverlabel\": {\"align\": \"left\"}, \"hovermode\": \"closest\", \"mapbox\": {\"style\": \"light\"}, \"paper_bgcolor\": \"white\", \"plot_bgcolor\": \"#E5ECF6\", \"polar\": {\"angularaxis\": {\"gridcolor\": \"white\", \"linecolor\": \"white\", \"ticks\": \"\"}, \"bgcolor\": \"#E5ECF6\", \"radialaxis\": {\"gridcolor\": \"white\", \"linecolor\": \"white\", \"ticks\": \"\"}}, \"scene\": {\"xaxis\": {\"backgroundcolor\": \"#E5ECF6\", \"gridcolor\": \"white\", \"gridwidth\": 2, \"linecolor\": \"white\", \"showbackground\": true, \"ticks\": \"\", \"zerolinecolor\": \"white\"}, \"yaxis\": {\"backgroundcolor\": \"#E5ECF6\", \"gridcolor\": \"white\", \"gridwidth\": 2, \"linecolor\": \"white\", \"showbackground\": true, \"ticks\": \"\", \"zerolinecolor\": \"white\"}, \"zaxis\": {\"backgroundcolor\": \"#E5ECF6\", \"gridcolor\": \"white\", \"gridwidth\": 2, \"linecolor\": \"white\", \"showbackground\": true, \"ticks\": \"\", \"zerolinecolor\": \"white\"}}, \"shapedefaults\": {\"line\": {\"color\": \"#2a3f5f\"}}, \"ternary\": {\"aaxis\": {\"gridcolor\": \"white\", \"linecolor\": \"white\", \"ticks\": \"\"}, \"baxis\": {\"gridcolor\": \"white\", \"linecolor\": \"white\", \"ticks\": \"\"}, \"bgcolor\": \"#E5ECF6\", \"caxis\": {\"gridcolor\": \"white\", \"linecolor\": \"white\", \"ticks\": \"\"}}, \"title\": {\"x\": 0.05}, \"xaxis\": {\"automargin\": true, \"gridcolor\": \"white\", \"linecolor\": \"white\", \"ticks\": \"\", \"title\": {\"standoff\": 15}, \"zerolinecolor\": \"white\", \"zerolinewidth\": 2}, \"yaxis\": {\"automargin\": true, \"gridcolor\": \"white\", \"linecolor\": \"white\", \"ticks\": \"\", \"title\": {\"standoff\": 15}, \"zerolinecolor\": \"white\", \"zerolinewidth\": 2}}}},                        {\"responsive\": true}                    ).then(function(){\n",
       "                            \n",
       "var gd = document.getElementById('3e5af8ab-a317-4c4d-8321-71cf0697cb68');\n",
       "var x = new MutationObserver(function (mutations, observer) {{\n",
       "        var display = window.getComputedStyle(gd).display;\n",
       "        if (!display || display === 'none') {{\n",
       "            console.log([gd, 'removed!']);\n",
       "            Plotly.purge(gd);\n",
       "            observer.disconnect();\n",
       "        }}\n",
       "}});\n",
       "\n",
       "// Listen for the removal of the full notebook cells\n",
       "var notebookContainer = gd.closest('#notebook-container');\n",
       "if (notebookContainer) {{\n",
       "    x.observe(notebookContainer, {childList: true});\n",
       "}}\n",
       "\n",
       "// Listen for the clearing of the current output cell\n",
       "var outputEl = gd.closest('.output');\n",
       "if (outputEl) {{\n",
       "    x.observe(outputEl, {childList: true});\n",
       "}}\n",
       "\n",
       "                        })                };                });            </script>        </div>"
      ]
     },
     "metadata": {},
     "output_type": "display_data"
    }
   ],
   "source": [
    "derivativesDir = '/Users/agah/Desktop/KuzuData/PHD_DATA/ds-venus/derivatives/qMRLab/sub-phantom/'\n",
    "\n",
    "spheres = [1, 2, 3, 4, 5, 6, 7, 8, 9, 10]\n",
    "refMean = [1.989,1.454,0.9841,0.706,0.4967,0.3515,0.24713,0.1753,0.1259,0.089]\n",
    "\n",
    "\n",
    "sessions = ['rth750retest','rth750test','rthPRIretest','rthPRItest','rthSKYretest','rthSKYtest',\n",
    "        'vendor750retest','vendor750test','vendorPRIretest','vendorPRItest','vendorSKYretest','vendorSKYtest']\n",
    "df = pd.DataFrame()\n",
    "\n",
    "fig = go.Figure()\n",
    "\n",
    "avg_array  = []\n",
    "std_array  =  []\n",
    "for ii in range(len(spheres)):\n",
    "    # Each one of these contains B1, MTsat, T1 and T1cor\n",
    "    cur_region_rth750 = derivativesDir + 'ses-' + sessions[0] + '/stat/sub-phantom_ses-' + sessions[0] + '_desc-sphere' + str(spheres[ii]) + '_metrics.mat'\n",
    "    cur_region_rthPRI = derivativesDir + 'ses-' + sessions[2] + '/stat/sub-phantom_ses-' + sessions[2] + '_desc-sphere' + str(spheres[ii]) + '_metrics.mat'\n",
    "    cur_region_rthSKY = derivativesDir + 'ses-' + sessions[4] + '/stat/sub-phantom_ses-' + sessions[4] + '_desc-sphere' + str(spheres[ii]) + '_metrics.mat'\n",
    "\n",
    "\n",
    "\n",
    "    cur_contents_rth750 = sio.loadmat(cur_region_rth750)\n",
    "    cur_contents_rthPRI = sio.loadmat(cur_region_rthPRI)\n",
    "    cur_contents_rthSKY = sio.loadmat(cur_region_rthSKY)\n",
    "    \n",
    "    avg_array.append(np.mean(np.array([cur_contents_rth750['T1'].flatten().mean(),cur_contents_rthPRI['T1'].flatten().mean(),cur_contents_rthSKY['T1'].flatten().mean(),]),axis=0))\n",
    "    std_array.append(np.std(np.array([cur_contents_rth750['T1'].flatten().std(),cur_contents_rthPRI['T1'].flatten().std(),cur_contents_rthSKY['T1'].flatten().std(),]),axis=0))\n",
    "    #cur_contents_avg = np.delete(cur_contents_avg, np.where(cur_contents_avg > 5))\n",
    "    cur_tag = 'neutral'\n",
    "df[cur_tag + '_mean'] = avg_array\n",
    "df[cur_tag + '_std'] = std_array\n",
    "upper = list(np.squeeze(np.array(avg_array)) + np.squeeze(np.array(std_array)))\n",
    "lower = list(np.squeeze(np.array(avg_array)) - np.squeeze(np.array(std_array)))\n",
    "# Add std lines\n",
    "fig.add_trace(go.Scatter(\n",
    "x= spheres + spheres[::-1],\n",
    "y=upper+lower[::-1],\n",
    "fill='toself',\n",
    "fillcolor= 'rgba(247,202,171,0.3)',\n",
    "line_color='rgba(255,0,0,0)',\n",
    "name= 'neutral'\n",
    "))\n",
    "# Add markers\n",
    "fig.add_trace(go.Scatter(\n",
    "    x=spheres, y=refMean,\n",
    "    line_color='black',\n",
    "    mode = 'markers',\n",
    "    name = 'Reference',\n",
    "    marker = dict(size=25,symbol='cross-open',line = dict(width=2))\n",
    "\n",
    "))\n",
    "fig.add_trace(go.Scatter(\n",
    "x=spheres, y=avg_array,\n",
    "line_color='rgba(247,0,0,1)',\n",
    "name= 'neutral',\n",
    "marker = dict(size=20,symbol='circle',line=dict(color='black',width=1.5),opacity=0.9),\n",
    "line=dict(width=2, dash='dash'),\n",
    "line_shape='spline'\n",
    "))\n",
    "\n",
    "\n"
   ]
  },
  {
   "cell_type": "code",
   "execution_count": 3,
   "metadata": {},
   "outputs": [
    {
     "data": {
      "application/vnd.plotly.v1+json": {
       "config": {
        "plotlyServerURL": "https://plot.ly"
       },
       "data": [
        {
         "fill": "toself",
         "fillcolor": "rgba(247,202,171,0.3)",
         "line": {
          "color": "rgba(255,0,0,0)"
         },
         "name": "neutral",
         "type": "scatter",
         "x": [
          1,
          2,
          3,
          4,
          5,
          6,
          7,
          8,
          9,
          10,
          10,
          9,
          8,
          7,
          6,
          5,
          4,
          3,
          2,
          1
         ],
         "y": [
          1.9755117072130142,
          1.358637296183255,
          0.93945717926285,
          0.6432259847524202,
          0.43626321658824335,
          0.30297738941510105,
          0.2388099708835722,
          0.1957642377147862,
          0.14509123773934904,
          0.09982248412543658,
          0.09800180073950036,
          0.14384970429505414,
          0.1934561023684437,
          0.23518038404465452,
          0.30091919169300035,
          0.4319880691550509,
          0.6367179099092322,
          0.9280464204841877,
          1.3393693391376396,
          1.9397629476750569
         ]
        },
        {
         "line": {
          "color": "black"
         },
         "marker": {
          "line": {
           "width": 2
          },
          "size": 25,
          "symbol": "cross-open"
         },
         "mode": "markers",
         "name": "Reference",
         "type": "scatter",
         "x": [
          1,
          2,
          3,
          4,
          5,
          6,
          7,
          8,
          9,
          10
         ],
         "y": [
          1.989,
          1.454,
          0.9841,
          0.706,
          0.4967,
          0.3515,
          0.24713,
          0.1753,
          0.1259,
          0.089
         ]
        },
        {
         "line": {
          "color": "rgba(247,0,0,1)",
          "dash": "dash",
          "shape": "spline",
          "width": 2
         },
         "marker": {
          "line": {
           "color": "black",
           "width": 1.5
          },
          "opacity": 0.9,
          "size": 20,
          "symbol": "circle"
         },
         "name": "neutral",
         "type": "scatter",
         "x": [
          1,
          2,
          3,
          4,
          5,
          6,
          7,
          8,
          9,
          10
         ],
         "y": [
          1.9576373274440355,
          1.3490033176604472,
          0.9337517998735189,
          0.6399719473308262,
          0.4341256428716471,
          0.3019482905540507,
          0.23699517746411336,
          0.19461017004161496,
          0.1444704710172016,
          0.09891214243246847
         ]
        },
        {
         "fill": "toself",
         "fillcolor": "rgba(0,0,255,0.8)",
         "line": {
          "color": "rgba(255,0,0,0)"
         },
         "name": "native",
         "type": "scatter",
         "x": [
          1,
          2,
          3,
          4,
          5,
          6,
          7,
          8,
          9,
          10,
          10,
          9,
          8,
          7,
          6,
          5,
          4,
          3,
          2,
          1
         ],
         "y": [
          2.328185067294931,
          1.6198001642576652,
          1.1063344321576527,
          0.748807005906861,
          0.5050159614131383,
          0.3419797862431986,
          0.2598042348224256,
          0.2162810200981341,
          0.1582892347775578,
          0.11054881808149139,
          0.10884250606215079,
          0.15539930729800955,
          0.21341499744331976,
          0.25685989125596426,
          0.33834101610023226,
          0.4986567236991465,
          0.739903027739395,
          1.0965677934783091,
          1.5998884906203543,
          2.3163189131162536
         ]
        },
        {
         "line": {
          "color": "rgba(0,0,255,0.8)",
          "dash": "solid",
          "shape": "spline",
          "width": 2
         },
         "marker": {
          "line": {
           "color": "black",
           "width": 1.5
          },
          "opacity": 0.9,
          "size": 20,
          "symbol": "square"
         },
         "name": "native",
         "type": "scatter",
         "x": [
          1,
          2,
          3,
          4,
          5,
          6,
          7,
          8,
          9,
          10
         ],
         "y": [
          2.3222519902055923,
          1.6098443274390097,
          1.101451112817981,
          0.744355016823128,
          0.5018363425561424,
          0.3401604011717154,
          0.2583320630391949,
          0.21484800877072693,
          0.15684427103778367,
          0.10969566207182109
         ]
        }
       ],
       "layout": {
        "height": 700,
        "template": {
         "data": {
          "bar": [
           {
            "error_x": {
             "color": "#2a3f5f"
            },
            "error_y": {
             "color": "#2a3f5f"
            },
            "marker": {
             "line": {
              "color": "#E5ECF6",
              "width": 0.5
             }
            },
            "type": "bar"
           }
          ],
          "barpolar": [
           {
            "marker": {
             "line": {
              "color": "#E5ECF6",
              "width": 0.5
             }
            },
            "type": "barpolar"
           }
          ],
          "carpet": [
           {
            "aaxis": {
             "endlinecolor": "#2a3f5f",
             "gridcolor": "white",
             "linecolor": "white",
             "minorgridcolor": "white",
             "startlinecolor": "#2a3f5f"
            },
            "baxis": {
             "endlinecolor": "#2a3f5f",
             "gridcolor": "white",
             "linecolor": "white",
             "minorgridcolor": "white",
             "startlinecolor": "#2a3f5f"
            },
            "type": "carpet"
           }
          ],
          "choropleth": [
           {
            "colorbar": {
             "outlinewidth": 0,
             "ticks": ""
            },
            "type": "choropleth"
           }
          ],
          "contour": [
           {
            "colorbar": {
             "outlinewidth": 0,
             "ticks": ""
            },
            "colorscale": [
             [
              0,
              "#0d0887"
             ],
             [
              0.1111111111111111,
              "#46039f"
             ],
             [
              0.2222222222222222,
              "#7201a8"
             ],
             [
              0.3333333333333333,
              "#9c179e"
             ],
             [
              0.4444444444444444,
              "#bd3786"
             ],
             [
              0.5555555555555556,
              "#d8576b"
             ],
             [
              0.6666666666666666,
              "#ed7953"
             ],
             [
              0.7777777777777778,
              "#fb9f3a"
             ],
             [
              0.8888888888888888,
              "#fdca26"
             ],
             [
              1,
              "#f0f921"
             ]
            ],
            "type": "contour"
           }
          ],
          "contourcarpet": [
           {
            "colorbar": {
             "outlinewidth": 0,
             "ticks": ""
            },
            "type": "contourcarpet"
           }
          ],
          "heatmap": [
           {
            "colorbar": {
             "outlinewidth": 0,
             "ticks": ""
            },
            "colorscale": [
             [
              0,
              "#0d0887"
             ],
             [
              0.1111111111111111,
              "#46039f"
             ],
             [
              0.2222222222222222,
              "#7201a8"
             ],
             [
              0.3333333333333333,
              "#9c179e"
             ],
             [
              0.4444444444444444,
              "#bd3786"
             ],
             [
              0.5555555555555556,
              "#d8576b"
             ],
             [
              0.6666666666666666,
              "#ed7953"
             ],
             [
              0.7777777777777778,
              "#fb9f3a"
             ],
             [
              0.8888888888888888,
              "#fdca26"
             ],
             [
              1,
              "#f0f921"
             ]
            ],
            "type": "heatmap"
           }
          ],
          "heatmapgl": [
           {
            "colorbar": {
             "outlinewidth": 0,
             "ticks": ""
            },
            "colorscale": [
             [
              0,
              "#0d0887"
             ],
             [
              0.1111111111111111,
              "#46039f"
             ],
             [
              0.2222222222222222,
              "#7201a8"
             ],
             [
              0.3333333333333333,
              "#9c179e"
             ],
             [
              0.4444444444444444,
              "#bd3786"
             ],
             [
              0.5555555555555556,
              "#d8576b"
             ],
             [
              0.6666666666666666,
              "#ed7953"
             ],
             [
              0.7777777777777778,
              "#fb9f3a"
             ],
             [
              0.8888888888888888,
              "#fdca26"
             ],
             [
              1,
              "#f0f921"
             ]
            ],
            "type": "heatmapgl"
           }
          ],
          "histogram": [
           {
            "marker": {
             "colorbar": {
              "outlinewidth": 0,
              "ticks": ""
             }
            },
            "type": "histogram"
           }
          ],
          "histogram2d": [
           {
            "colorbar": {
             "outlinewidth": 0,
             "ticks": ""
            },
            "colorscale": [
             [
              0,
              "#0d0887"
             ],
             [
              0.1111111111111111,
              "#46039f"
             ],
             [
              0.2222222222222222,
              "#7201a8"
             ],
             [
              0.3333333333333333,
              "#9c179e"
             ],
             [
              0.4444444444444444,
              "#bd3786"
             ],
             [
              0.5555555555555556,
              "#d8576b"
             ],
             [
              0.6666666666666666,
              "#ed7953"
             ],
             [
              0.7777777777777778,
              "#fb9f3a"
             ],
             [
              0.8888888888888888,
              "#fdca26"
             ],
             [
              1,
              "#f0f921"
             ]
            ],
            "type": "histogram2d"
           }
          ],
          "histogram2dcontour": [
           {
            "colorbar": {
             "outlinewidth": 0,
             "ticks": ""
            },
            "colorscale": [
             [
              0,
              "#0d0887"
             ],
             [
              0.1111111111111111,
              "#46039f"
             ],
             [
              0.2222222222222222,
              "#7201a8"
             ],
             [
              0.3333333333333333,
              "#9c179e"
             ],
             [
              0.4444444444444444,
              "#bd3786"
             ],
             [
              0.5555555555555556,
              "#d8576b"
             ],
             [
              0.6666666666666666,
              "#ed7953"
             ],
             [
              0.7777777777777778,
              "#fb9f3a"
             ],
             [
              0.8888888888888888,
              "#fdca26"
             ],
             [
              1,
              "#f0f921"
             ]
            ],
            "type": "histogram2dcontour"
           }
          ],
          "mesh3d": [
           {
            "colorbar": {
             "outlinewidth": 0,
             "ticks": ""
            },
            "type": "mesh3d"
           }
          ],
          "parcoords": [
           {
            "line": {
             "colorbar": {
              "outlinewidth": 0,
              "ticks": ""
             }
            },
            "type": "parcoords"
           }
          ],
          "pie": [
           {
            "automargin": true,
            "type": "pie"
           }
          ],
          "scatter": [
           {
            "marker": {
             "colorbar": {
              "outlinewidth": 0,
              "ticks": ""
             }
            },
            "type": "scatter"
           }
          ],
          "scatter3d": [
           {
            "line": {
             "colorbar": {
              "outlinewidth": 0,
              "ticks": ""
             }
            },
            "marker": {
             "colorbar": {
              "outlinewidth": 0,
              "ticks": ""
             }
            },
            "type": "scatter3d"
           }
          ],
          "scattercarpet": [
           {
            "marker": {
             "colorbar": {
              "outlinewidth": 0,
              "ticks": ""
             }
            },
            "type": "scattercarpet"
           }
          ],
          "scattergeo": [
           {
            "marker": {
             "colorbar": {
              "outlinewidth": 0,
              "ticks": ""
             }
            },
            "type": "scattergeo"
           }
          ],
          "scattergl": [
           {
            "marker": {
             "colorbar": {
              "outlinewidth": 0,
              "ticks": ""
             }
            },
            "type": "scattergl"
           }
          ],
          "scattermapbox": [
           {
            "marker": {
             "colorbar": {
              "outlinewidth": 0,
              "ticks": ""
             }
            },
            "type": "scattermapbox"
           }
          ],
          "scatterpolar": [
           {
            "marker": {
             "colorbar": {
              "outlinewidth": 0,
              "ticks": ""
             }
            },
            "type": "scatterpolar"
           }
          ],
          "scatterpolargl": [
           {
            "marker": {
             "colorbar": {
              "outlinewidth": 0,
              "ticks": ""
             }
            },
            "type": "scatterpolargl"
           }
          ],
          "scatterternary": [
           {
            "marker": {
             "colorbar": {
              "outlinewidth": 0,
              "ticks": ""
             }
            },
            "type": "scatterternary"
           }
          ],
          "surface": [
           {
            "colorbar": {
             "outlinewidth": 0,
             "ticks": ""
            },
            "colorscale": [
             [
              0,
              "#0d0887"
             ],
             [
              0.1111111111111111,
              "#46039f"
             ],
             [
              0.2222222222222222,
              "#7201a8"
             ],
             [
              0.3333333333333333,
              "#9c179e"
             ],
             [
              0.4444444444444444,
              "#bd3786"
             ],
             [
              0.5555555555555556,
              "#d8576b"
             ],
             [
              0.6666666666666666,
              "#ed7953"
             ],
             [
              0.7777777777777778,
              "#fb9f3a"
             ],
             [
              0.8888888888888888,
              "#fdca26"
             ],
             [
              1,
              "#f0f921"
             ]
            ],
            "type": "surface"
           }
          ],
          "table": [
           {
            "cells": {
             "fill": {
              "color": "#EBF0F8"
             },
             "line": {
              "color": "white"
             }
            },
            "header": {
             "fill": {
              "color": "#C8D4E3"
             },
             "line": {
              "color": "white"
             }
            },
            "type": "table"
           }
          ]
         },
         "layout": {
          "annotationdefaults": {
           "arrowcolor": "#2a3f5f",
           "arrowhead": 0,
           "arrowwidth": 1
          },
          "autotypenumbers": "strict",
          "coloraxis": {
           "colorbar": {
            "outlinewidth": 0,
            "ticks": ""
           }
          },
          "colorscale": {
           "diverging": [
            [
             0,
             "#8e0152"
            ],
            [
             0.1,
             "#c51b7d"
            ],
            [
             0.2,
             "#de77ae"
            ],
            [
             0.3,
             "#f1b6da"
            ],
            [
             0.4,
             "#fde0ef"
            ],
            [
             0.5,
             "#f7f7f7"
            ],
            [
             0.6,
             "#e6f5d0"
            ],
            [
             0.7,
             "#b8e186"
            ],
            [
             0.8,
             "#7fbc41"
            ],
            [
             0.9,
             "#4d9221"
            ],
            [
             1,
             "#276419"
            ]
           ],
           "sequential": [
            [
             0,
             "#0d0887"
            ],
            [
             0.1111111111111111,
             "#46039f"
            ],
            [
             0.2222222222222222,
             "#7201a8"
            ],
            [
             0.3333333333333333,
             "#9c179e"
            ],
            [
             0.4444444444444444,
             "#bd3786"
            ],
            [
             0.5555555555555556,
             "#d8576b"
            ],
            [
             0.6666666666666666,
             "#ed7953"
            ],
            [
             0.7777777777777778,
             "#fb9f3a"
            ],
            [
             0.8888888888888888,
             "#fdca26"
            ],
            [
             1,
             "#f0f921"
            ]
           ],
           "sequentialminus": [
            [
             0,
             "#0d0887"
            ],
            [
             0.1111111111111111,
             "#46039f"
            ],
            [
             0.2222222222222222,
             "#7201a8"
            ],
            [
             0.3333333333333333,
             "#9c179e"
            ],
            [
             0.4444444444444444,
             "#bd3786"
            ],
            [
             0.5555555555555556,
             "#d8576b"
            ],
            [
             0.6666666666666666,
             "#ed7953"
            ],
            [
             0.7777777777777778,
             "#fb9f3a"
            ],
            [
             0.8888888888888888,
             "#fdca26"
            ],
            [
             1,
             "#f0f921"
            ]
           ]
          },
          "colorway": [
           "#636efa",
           "#EF553B",
           "#00cc96",
           "#ab63fa",
           "#FFA15A",
           "#19d3f3",
           "#FF6692",
           "#B6E880",
           "#FF97FF",
           "#FECB52"
          ],
          "font": {
           "color": "#2a3f5f"
          },
          "geo": {
           "bgcolor": "white",
           "lakecolor": "white",
           "landcolor": "#E5ECF6",
           "showlakes": true,
           "showland": true,
           "subunitcolor": "white"
          },
          "hoverlabel": {
           "align": "left"
          },
          "hovermode": "closest",
          "mapbox": {
           "style": "light"
          },
          "paper_bgcolor": "white",
          "plot_bgcolor": "#E5ECF6",
          "polar": {
           "angularaxis": {
            "gridcolor": "white",
            "linecolor": "white",
            "ticks": ""
           },
           "bgcolor": "#E5ECF6",
           "radialaxis": {
            "gridcolor": "white",
            "linecolor": "white",
            "ticks": ""
           }
          },
          "scene": {
           "xaxis": {
            "backgroundcolor": "#E5ECF6",
            "gridcolor": "white",
            "gridwidth": 2,
            "linecolor": "white",
            "showbackground": true,
            "ticks": "",
            "zerolinecolor": "white"
           },
           "yaxis": {
            "backgroundcolor": "#E5ECF6",
            "gridcolor": "white",
            "gridwidth": 2,
            "linecolor": "white",
            "showbackground": true,
            "ticks": "",
            "zerolinecolor": "white"
           },
           "zaxis": {
            "backgroundcolor": "#E5ECF6",
            "gridcolor": "white",
            "gridwidth": 2,
            "linecolor": "white",
            "showbackground": true,
            "ticks": "",
            "zerolinecolor": "white"
           }
          },
          "shapedefaults": {
           "line": {
            "color": "#2a3f5f"
           }
          },
          "ternary": {
           "aaxis": {
            "gridcolor": "white",
            "linecolor": "white",
            "ticks": ""
           },
           "baxis": {
            "gridcolor": "white",
            "linecolor": "white",
            "ticks": ""
           },
           "bgcolor": "#E5ECF6",
           "caxis": {
            "gridcolor": "white",
            "linecolor": "white",
            "ticks": ""
           }
          },
          "title": {
           "x": 0.05
          },
          "xaxis": {
           "automargin": true,
           "gridcolor": "white",
           "linecolor": "white",
           "ticks": "",
           "title": {
            "standoff": 15
           },
           "zerolinecolor": "white",
           "zerolinewidth": 2
          },
          "yaxis": {
           "automargin": true,
           "gridcolor": "white",
           "linecolor": "white",
           "ticks": "",
           "title": {
            "standoff": 15
           },
           "zerolinecolor": "white",
           "zerolinewidth": 2
          }
         }
        },
        "width": 800
       }
      },
      "text/html": [
       "<div>                            <div id=\"1687305b-2dfd-46ba-8597-bf3d129b02a4\" class=\"plotly-graph-div\" style=\"height:700px; width:800px;\"></div>            <script type=\"text/javascript\">                require([\"plotly\"], function(Plotly) {                    window.PLOTLYENV=window.PLOTLYENV || {};                                    if (document.getElementById(\"1687305b-2dfd-46ba-8597-bf3d129b02a4\")) {                    Plotly.newPlot(                        \"1687305b-2dfd-46ba-8597-bf3d129b02a4\",                        [{\"fill\": \"toself\", \"fillcolor\": \"rgba(247,202,171,0.3)\", \"line\": {\"color\": \"rgba(255,0,0,0)\"}, \"name\": \"neutral\", \"type\": \"scatter\", \"x\": [1, 2, 3, 4, 5, 6, 7, 8, 9, 10, 10, 9, 8, 7, 6, 5, 4, 3, 2, 1], \"y\": [1.9755117072130142, 1.358637296183255, 0.93945717926285, 0.6432259847524202, 0.43626321658824335, 0.30297738941510105, 0.2388099708835722, 0.1957642377147862, 0.14509123773934904, 0.09982248412543658, 0.09800180073950036, 0.14384970429505414, 0.1934561023684437, 0.23518038404465452, 0.30091919169300035, 0.4319880691550509, 0.6367179099092322, 0.9280464204841877, 1.3393693391376396, 1.9397629476750569]}, {\"line\": {\"color\": \"black\"}, \"marker\": {\"line\": {\"width\": 2}, \"size\": 25, \"symbol\": \"cross-open\"}, \"mode\": \"markers\", \"name\": \"Reference\", \"type\": \"scatter\", \"x\": [1, 2, 3, 4, 5, 6, 7, 8, 9, 10], \"y\": [1.989, 1.454, 0.9841, 0.706, 0.4967, 0.3515, 0.24713, 0.1753, 0.1259, 0.089]}, {\"line\": {\"color\": \"rgba(247,0,0,1)\", \"dash\": \"dash\", \"shape\": \"spline\", \"width\": 2}, \"marker\": {\"line\": {\"color\": \"black\", \"width\": 1.5}, \"opacity\": 0.9, \"size\": 20, \"symbol\": \"circle\"}, \"name\": \"neutral\", \"type\": \"scatter\", \"x\": [1, 2, 3, 4, 5, 6, 7, 8, 9, 10], \"y\": [1.9576373274440355, 1.3490033176604472, 0.9337517998735189, 0.6399719473308262, 0.4341256428716471, 0.3019482905540507, 0.23699517746411336, 0.19461017004161496, 0.1444704710172016, 0.09891214243246847]}, {\"fill\": \"toself\", \"fillcolor\": \"rgba(0,0,255,0.8)\", \"line\": {\"color\": \"rgba(255,0,0,0)\"}, \"name\": \"native\", \"type\": \"scatter\", \"x\": [1, 2, 3, 4, 5, 6, 7, 8, 9, 10, 10, 9, 8, 7, 6, 5, 4, 3, 2, 1], \"y\": [2.328185067294931, 1.6198001642576652, 1.1063344321576527, 0.748807005906861, 0.5050159614131383, 0.3419797862431986, 0.2598042348224256, 0.2162810200981341, 0.1582892347775578, 0.11054881808149139, 0.10884250606215079, 0.15539930729800955, 0.21341499744331976, 0.25685989125596426, 0.33834101610023226, 0.4986567236991465, 0.739903027739395, 1.0965677934783091, 1.5998884906203543, 2.3163189131162536]}, {\"line\": {\"color\": \"rgba(0,0,255,0.8)\", \"dash\": \"solid\", \"shape\": \"spline\", \"width\": 2}, \"marker\": {\"line\": {\"color\": \"black\", \"width\": 1.5}, \"opacity\": 0.9, \"size\": 20, \"symbol\": \"square\"}, \"name\": \"native\", \"type\": \"scatter\", \"x\": [1, 2, 3, 4, 5, 6, 7, 8, 9, 10], \"y\": [2.3222519902055923, 1.6098443274390097, 1.101451112817981, 0.744355016823128, 0.5018363425561424, 0.3401604011717154, 0.2583320630391949, 0.21484800877072693, 0.15684427103778367, 0.10969566207182109]}],                        {\"height\": 700, \"template\": {\"data\": {\"bar\": [{\"error_x\": {\"color\": \"#2a3f5f\"}, \"error_y\": {\"color\": \"#2a3f5f\"}, \"marker\": {\"line\": {\"color\": \"#E5ECF6\", \"width\": 0.5}}, \"type\": \"bar\"}], \"barpolar\": [{\"marker\": {\"line\": {\"color\": \"#E5ECF6\", \"width\": 0.5}}, \"type\": \"barpolar\"}], \"carpet\": [{\"aaxis\": {\"endlinecolor\": \"#2a3f5f\", \"gridcolor\": \"white\", \"linecolor\": \"white\", \"minorgridcolor\": \"white\", \"startlinecolor\": \"#2a3f5f\"}, \"baxis\": {\"endlinecolor\": \"#2a3f5f\", \"gridcolor\": \"white\", \"linecolor\": \"white\", \"minorgridcolor\": \"white\", \"startlinecolor\": \"#2a3f5f\"}, \"type\": \"carpet\"}], \"choropleth\": [{\"colorbar\": {\"outlinewidth\": 0, \"ticks\": \"\"}, \"type\": \"choropleth\"}], \"contour\": [{\"colorbar\": {\"outlinewidth\": 0, \"ticks\": \"\"}, \"colorscale\": [[0.0, \"#0d0887\"], [0.1111111111111111, \"#46039f\"], [0.2222222222222222, \"#7201a8\"], [0.3333333333333333, \"#9c179e\"], [0.4444444444444444, \"#bd3786\"], [0.5555555555555556, \"#d8576b\"], [0.6666666666666666, \"#ed7953\"], [0.7777777777777778, \"#fb9f3a\"], [0.8888888888888888, \"#fdca26\"], [1.0, \"#f0f921\"]], \"type\": \"contour\"}], \"contourcarpet\": [{\"colorbar\": {\"outlinewidth\": 0, \"ticks\": \"\"}, \"type\": \"contourcarpet\"}], \"heatmap\": [{\"colorbar\": {\"outlinewidth\": 0, \"ticks\": \"\"}, \"colorscale\": [[0.0, \"#0d0887\"], [0.1111111111111111, \"#46039f\"], [0.2222222222222222, \"#7201a8\"], [0.3333333333333333, \"#9c179e\"], [0.4444444444444444, \"#bd3786\"], [0.5555555555555556, \"#d8576b\"], [0.6666666666666666, \"#ed7953\"], [0.7777777777777778, \"#fb9f3a\"], [0.8888888888888888, \"#fdca26\"], [1.0, \"#f0f921\"]], \"type\": \"heatmap\"}], \"heatmapgl\": [{\"colorbar\": {\"outlinewidth\": 0, \"ticks\": \"\"}, \"colorscale\": [[0.0, \"#0d0887\"], [0.1111111111111111, \"#46039f\"], [0.2222222222222222, \"#7201a8\"], [0.3333333333333333, \"#9c179e\"], [0.4444444444444444, \"#bd3786\"], [0.5555555555555556, \"#d8576b\"], [0.6666666666666666, \"#ed7953\"], [0.7777777777777778, \"#fb9f3a\"], [0.8888888888888888, \"#fdca26\"], [1.0, \"#f0f921\"]], \"type\": \"heatmapgl\"}], \"histogram\": [{\"marker\": {\"colorbar\": {\"outlinewidth\": 0, \"ticks\": \"\"}}, \"type\": \"histogram\"}], \"histogram2d\": [{\"colorbar\": {\"outlinewidth\": 0, \"ticks\": \"\"}, \"colorscale\": [[0.0, \"#0d0887\"], [0.1111111111111111, \"#46039f\"], [0.2222222222222222, \"#7201a8\"], [0.3333333333333333, \"#9c179e\"], [0.4444444444444444, \"#bd3786\"], [0.5555555555555556, \"#d8576b\"], [0.6666666666666666, \"#ed7953\"], [0.7777777777777778, \"#fb9f3a\"], [0.8888888888888888, \"#fdca26\"], [1.0, \"#f0f921\"]], \"type\": \"histogram2d\"}], \"histogram2dcontour\": [{\"colorbar\": {\"outlinewidth\": 0, \"ticks\": \"\"}, \"colorscale\": [[0.0, \"#0d0887\"], [0.1111111111111111, \"#46039f\"], [0.2222222222222222, \"#7201a8\"], [0.3333333333333333, \"#9c179e\"], [0.4444444444444444, \"#bd3786\"], [0.5555555555555556, \"#d8576b\"], [0.6666666666666666, \"#ed7953\"], [0.7777777777777778, \"#fb9f3a\"], [0.8888888888888888, \"#fdca26\"], [1.0, \"#f0f921\"]], \"type\": \"histogram2dcontour\"}], \"mesh3d\": [{\"colorbar\": {\"outlinewidth\": 0, \"ticks\": \"\"}, \"type\": \"mesh3d\"}], \"parcoords\": [{\"line\": {\"colorbar\": {\"outlinewidth\": 0, \"ticks\": \"\"}}, \"type\": \"parcoords\"}], \"pie\": [{\"automargin\": true, \"type\": \"pie\"}], \"scatter\": [{\"marker\": {\"colorbar\": {\"outlinewidth\": 0, \"ticks\": \"\"}}, \"type\": \"scatter\"}], \"scatter3d\": [{\"line\": {\"colorbar\": {\"outlinewidth\": 0, \"ticks\": \"\"}}, \"marker\": {\"colorbar\": {\"outlinewidth\": 0, \"ticks\": \"\"}}, \"type\": \"scatter3d\"}], \"scattercarpet\": [{\"marker\": {\"colorbar\": {\"outlinewidth\": 0, \"ticks\": \"\"}}, \"type\": \"scattercarpet\"}], \"scattergeo\": [{\"marker\": {\"colorbar\": {\"outlinewidth\": 0, \"ticks\": \"\"}}, \"type\": \"scattergeo\"}], \"scattergl\": [{\"marker\": {\"colorbar\": {\"outlinewidth\": 0, \"ticks\": \"\"}}, \"type\": \"scattergl\"}], \"scattermapbox\": [{\"marker\": {\"colorbar\": {\"outlinewidth\": 0, \"ticks\": \"\"}}, \"type\": \"scattermapbox\"}], \"scatterpolar\": [{\"marker\": {\"colorbar\": {\"outlinewidth\": 0, \"ticks\": \"\"}}, \"type\": \"scatterpolar\"}], \"scatterpolargl\": [{\"marker\": {\"colorbar\": {\"outlinewidth\": 0, \"ticks\": \"\"}}, \"type\": \"scatterpolargl\"}], \"scatterternary\": [{\"marker\": {\"colorbar\": {\"outlinewidth\": 0, \"ticks\": \"\"}}, \"type\": \"scatterternary\"}], \"surface\": [{\"colorbar\": {\"outlinewidth\": 0, \"ticks\": \"\"}, \"colorscale\": [[0.0, \"#0d0887\"], [0.1111111111111111, \"#46039f\"], [0.2222222222222222, \"#7201a8\"], [0.3333333333333333, \"#9c179e\"], [0.4444444444444444, \"#bd3786\"], [0.5555555555555556, \"#d8576b\"], [0.6666666666666666, \"#ed7953\"], [0.7777777777777778, \"#fb9f3a\"], [0.8888888888888888, \"#fdca26\"], [1.0, \"#f0f921\"]], \"type\": \"surface\"}], \"table\": [{\"cells\": {\"fill\": {\"color\": \"#EBF0F8\"}, \"line\": {\"color\": \"white\"}}, \"header\": {\"fill\": {\"color\": \"#C8D4E3\"}, \"line\": {\"color\": \"white\"}}, \"type\": \"table\"}]}, \"layout\": {\"annotationdefaults\": {\"arrowcolor\": \"#2a3f5f\", \"arrowhead\": 0, \"arrowwidth\": 1}, \"autotypenumbers\": \"strict\", \"coloraxis\": {\"colorbar\": {\"outlinewidth\": 0, \"ticks\": \"\"}}, \"colorscale\": {\"diverging\": [[0, \"#8e0152\"], [0.1, \"#c51b7d\"], [0.2, \"#de77ae\"], [0.3, \"#f1b6da\"], [0.4, \"#fde0ef\"], [0.5, \"#f7f7f7\"], [0.6, \"#e6f5d0\"], [0.7, \"#b8e186\"], [0.8, \"#7fbc41\"], [0.9, \"#4d9221\"], [1, \"#276419\"]], \"sequential\": [[0.0, \"#0d0887\"], [0.1111111111111111, \"#46039f\"], [0.2222222222222222, \"#7201a8\"], [0.3333333333333333, \"#9c179e\"], [0.4444444444444444, \"#bd3786\"], [0.5555555555555556, \"#d8576b\"], [0.6666666666666666, \"#ed7953\"], [0.7777777777777778, \"#fb9f3a\"], [0.8888888888888888, \"#fdca26\"], [1.0, \"#f0f921\"]], \"sequentialminus\": [[0.0, \"#0d0887\"], [0.1111111111111111, \"#46039f\"], [0.2222222222222222, \"#7201a8\"], [0.3333333333333333, \"#9c179e\"], [0.4444444444444444, \"#bd3786\"], [0.5555555555555556, \"#d8576b\"], [0.6666666666666666, \"#ed7953\"], [0.7777777777777778, \"#fb9f3a\"], [0.8888888888888888, \"#fdca26\"], [1.0, \"#f0f921\"]]}, \"colorway\": [\"#636efa\", \"#EF553B\", \"#00cc96\", \"#ab63fa\", \"#FFA15A\", \"#19d3f3\", \"#FF6692\", \"#B6E880\", \"#FF97FF\", \"#FECB52\"], \"font\": {\"color\": \"#2a3f5f\"}, \"geo\": {\"bgcolor\": \"white\", \"lakecolor\": \"white\", \"landcolor\": \"#E5ECF6\", \"showlakes\": true, \"showland\": true, \"subunitcolor\": \"white\"}, \"hoverlabel\": {\"align\": \"left\"}, \"hovermode\": \"closest\", \"mapbox\": {\"style\": \"light\"}, \"paper_bgcolor\": \"white\", \"plot_bgcolor\": \"#E5ECF6\", \"polar\": {\"angularaxis\": {\"gridcolor\": \"white\", \"linecolor\": \"white\", \"ticks\": \"\"}, \"bgcolor\": \"#E5ECF6\", \"radialaxis\": {\"gridcolor\": \"white\", \"linecolor\": \"white\", \"ticks\": \"\"}}, \"scene\": {\"xaxis\": {\"backgroundcolor\": \"#E5ECF6\", \"gridcolor\": \"white\", \"gridwidth\": 2, \"linecolor\": \"white\", \"showbackground\": true, \"ticks\": \"\", \"zerolinecolor\": \"white\"}, \"yaxis\": {\"backgroundcolor\": \"#E5ECF6\", \"gridcolor\": \"white\", \"gridwidth\": 2, \"linecolor\": \"white\", \"showbackground\": true, \"ticks\": \"\", \"zerolinecolor\": \"white\"}, \"zaxis\": {\"backgroundcolor\": \"#E5ECF6\", \"gridcolor\": \"white\", \"gridwidth\": 2, \"linecolor\": \"white\", \"showbackground\": true, \"ticks\": \"\", \"zerolinecolor\": \"white\"}}, \"shapedefaults\": {\"line\": {\"color\": \"#2a3f5f\"}}, \"ternary\": {\"aaxis\": {\"gridcolor\": \"white\", \"linecolor\": \"white\", \"ticks\": \"\"}, \"baxis\": {\"gridcolor\": \"white\", \"linecolor\": \"white\", \"ticks\": \"\"}, \"bgcolor\": \"#E5ECF6\", \"caxis\": {\"gridcolor\": \"white\", \"linecolor\": \"white\", \"ticks\": \"\"}}, \"title\": {\"x\": 0.05}, \"xaxis\": {\"automargin\": true, \"gridcolor\": \"white\", \"linecolor\": \"white\", \"ticks\": \"\", \"title\": {\"standoff\": 15}, \"zerolinecolor\": \"white\", \"zerolinewidth\": 2}, \"yaxis\": {\"automargin\": true, \"gridcolor\": \"white\", \"linecolor\": \"white\", \"ticks\": \"\", \"title\": {\"standoff\": 15}, \"zerolinecolor\": \"white\", \"zerolinewidth\": 2}}}, \"width\": 800},                        {\"responsive\": true}                    ).then(function(){\n",
       "                            \n",
       "var gd = document.getElementById('1687305b-2dfd-46ba-8597-bf3d129b02a4');\n",
       "var x = new MutationObserver(function (mutations, observer) {{\n",
       "        var display = window.getComputedStyle(gd).display;\n",
       "        if (!display || display === 'none') {{\n",
       "            console.log([gd, 'removed!']);\n",
       "            Plotly.purge(gd);\n",
       "            observer.disconnect();\n",
       "        }}\n",
       "}});\n",
       "\n",
       "// Listen for the removal of the full notebook cells\n",
       "var notebookContainer = gd.closest('#notebook-container');\n",
       "if (notebookContainer) {{\n",
       "    x.observe(notebookContainer, {childList: true});\n",
       "}}\n",
       "\n",
       "// Listen for the clearing of the current output cell\n",
       "var outputEl = gd.closest('.output');\n",
       "if (outputEl) {{\n",
       "    x.observe(outputEl, {childList: true});\n",
       "}}\n",
       "\n",
       "                        })                };                });            </script>        </div>"
      ]
     },
     "metadata": {},
     "output_type": "display_data"
    }
   ],
   "source": [
    "derivativesDir = '/Users/agah/Desktop/KuzuData/PHD_DATA/ds-venus/derivatives/qMRLab/sub-phantom/'\n",
    "\n",
    "spheres = [1, 2, 3, 4, 5, 6, 7, 8, 9, 10]\n",
    "refMean = [1.989,1.454,0.9841,0.706,0.4967,0.3515,0.24713,0.1753,0.1259,0.089]\n",
    "\n",
    "\n",
    "sessions = ['rth750retest','rth750test','rthPRIretest','rthPRItest','rthSKYretest','rthSKYtest',\n",
    "        'vendor750retest','vendor750test','vendorPRIretest','vendorPRItest','vendorSKYretest','vendorSKYtest']\n",
    "df = pd.DataFrame()\n",
    "\n",
    "#fig = go.Figure() PREV CELL\n",
    "\n",
    "avg_array  = []\n",
    "std_array  =  []\n",
    "for ii in range(len(spheres)):\n",
    "    # Each one of these contains B1, MTsat, T1 and T1cor\n",
    "    cur_region_rth750 = derivativesDir + 'ses-' + sessions[6] + '/stat/sub-phantom_ses-' + sessions[6] + '_desc-sphere' + str(spheres[ii]) + '_metrics.mat'\n",
    "    cur_region_rthPRI = derivativesDir + 'ses-' + sessions[8] + '/stat/sub-phantom_ses-' + sessions[8] + '_desc-sphere' + str(spheres[ii]) + '_metrics.mat'\n",
    "    cur_region_rthSKY = derivativesDir + 'ses-' + sessions[10] + '/stat/sub-phantom_ses-' + sessions[10] + '_desc-sphere' + str(spheres[ii]) + '_metrics.mat'\n",
    "\n",
    "\n",
    "\n",
    "    cur_contents_rth750 = sio.loadmat(cur_region_rth750)\n",
    "    cur_contents_rthPRI = sio.loadmat(cur_region_rthPRI)\n",
    "    cur_contents_rthSKY = sio.loadmat(cur_region_rthSKY)\n",
    "    \n",
    "    avg_array.append(np.mean(np.array([cur_contents_rth750['T1'].flatten().mean(),cur_contents_rthPRI['T1'].flatten().mean(),cur_contents_rthSKY['T1'].flatten().mean(),]),axis=0))\n",
    "    std_array.append(np.std(np.array([cur_contents_rth750['T1'].flatten().std(),cur_contents_rthPRI['T1'].flatten().std(),cur_contents_rthSKY['T1'].flatten().std(),]),axis=0))\n",
    "    #cur_contents_avg = np.delete(cur_contents_avg, np.where(cur_contents_avg > 5))\n",
    "    cur_tag = 'native'\n",
    "df[cur_tag + '_mean'] = avg_array\n",
    "df[cur_tag + '_std'] = std_array\n",
    "upper = list(np.squeeze(np.array(avg_array)) + np.squeeze(np.array(std_array)))\n",
    "lower = list(np.squeeze(np.array(avg_array)) - np.squeeze(np.array(std_array)))\n",
    "# Add std lines\n",
    "fig.add_trace(go.Scatter(\n",
    "x= spheres + spheres[::-1],\n",
    "y=upper+lower[::-1],\n",
    "fill='toself',\n",
    "fillcolor= 'rgba(0,0,255,0.8)',\n",
    "line_color='rgba(255,0,0,0)',\n",
    "name= 'native'\n",
    "))\n",
    "# Add markers\n",
    "fig.add_trace(go.Scatter(\n",
    "x=spheres, y=avg_array,\n",
    "line_color='rgba(0,0,255,0.8)',\n",
    "name= 'native',\n",
    "marker = dict(size=20,symbol='square',line=dict(color='black',width=1.5),opacity=0.9),\n",
    "line=dict(width=2, dash='solid'),\n",
    "line_shape='spline'\n",
    "))\n",
    "fig.update_layout(height=700, width=800)\n",
    "\n",
    "\n",
    "fig"
   ]
  },
  {
   "cell_type": "code",
   "execution_count": 4,
   "metadata": {},
   "outputs": [
    {
     "data": {
      "text/plain": [
       "'temp-plot.html'"
      ]
     },
     "execution_count": 4,
     "metadata": {},
     "output_type": "execute_result"
    }
   ],
   "source": [
    "fig.update_layout(height=700, width=800, paper_bgcolor='#000000',plot_bgcolor='#000000')\n",
    "#fig.update_layout(legend=dict(x=1, y=1,tracegroupgap=300,font=dict(color=\"white\")))\n",
    "axis_template = dict(linecolor = 'black', showticklabels = True,\n",
    "             tickfont=dict(color=\"white\"), gridcolor = 'rgb(20,20,20)',zerolinecolor = 'rgb(40,40,40)' )\n",
    "fig.update_xaxes(axis_template)\n",
    "fig.update_yaxes(axis_template,gridcolor = 'rgb(100,100,100)')\n",
    "\n",
    "plot_y = [2.5,1.989,1.454,0.9841,0.706,0.4967,0.3515,0.24713,0.1753,0.1259,0.089]\n",
    "\n",
    "fig.update_yaxes(tickvals=np.round(plot_y,2),range=[0,2.38])\n",
    "fig.update_xaxes(tickvals=spheres)\n",
    "fig.update_layout(title='',title_font_color=\"white\",margin=dict(l=0,r=0,t=0,b=0))\n",
    "\n",
    "plot(fig)"
   ]
  },
  {
   "cell_type": "markdown",
   "metadata": {},
   "source": [
    "## T1 values After B1 correction"
   ]
  },
  {
   "cell_type": "code",
   "execution_count": null,
   "metadata": {},
   "outputs": [],
   "source": []
  },
  {
   "cell_type": "code",
   "execution_count": null,
   "metadata": {},
   "outputs": [],
   "source": [
    "derivativesDir = '/Users/agah/Desktop/KuzuData/PHD_DATA/ds-venus/derivatives/qMRLab/sub-phantom/'\n",
    "\n",
    "spheres = [1, 2, 3, 4, 5, 6, 7, 8, 9, 10]\n",
    "refMean = [1.989,1.454,0.9841,0.706,0.4967,0.3515,0.24713,0.1753,0.1259,0.089]\n",
    "\n",
    "\n",
    "sessions = ['rth750retest','rth750test','rthPRIretest','rthPRItest','rthSKYretest','rthSKYtest',\n",
    "            'vendorPRIretest','vendorPRItest','vendorSKYretest','vendorSKYtest']\n",
    "\n",
    "convert_tag = {'rth750':'G1<sub>neutral</sub>','rthPRI':'S1<sub>neutral</sub>','rthSKY':'S2<sub>neutral</sub>',\n",
    "               'vendor750':'G1<sub>native</sub>','vendorPRI':'S1<sub>native</sub>','vendorSKY':'S2<sub>native</sub>'\n",
    "              }\n",
    "# 'rth750':\n",
    "colors = {'rth750':'rgba(255,8,30,1)','rthPRI':'rgba(255,117,0,1)','rthSKY':'rgba(255,220,0,1)',\n",
    "         'vendor750':'rgba(13,186,233,1)','vendorPRI':'rgba(2.5,187,180,1)','vendorSKY':'rgba(0,248,205,1)'}\n",
    "\n",
    "colors_line = {'rth750':'rgba(255,8,30,0.2)','rthPRI':'rgba(255,117,0,0.1)','rthSKY':'rgba(255,220,0,0.1)',\n",
    "         'vendor750':'rgba(13,186,233,0.1)','vendorPRI':'rgba(2.5,187,180,0.1)','vendorSKY':'rgba(0,248,205,0.11)'}\n",
    "\n",
    "\n",
    "line_dash = {'rth750':'dash','rthPRI':'dash','rthSKY':'dash',\n",
    "         'vendor750':'solid','vendorPRI':'solid','vendorSKY':'solid'}\n",
    "\n",
    "line_sym = {'rth750':'circle','rthPRI':'circle','rthSKY':'circle',\n",
    "         'vendor750':'square','vendorPRI':'square','vendorSKY':'square'}\n",
    "\n",
    "df = pd.DataFrame()\n",
    "\n",
    "fig = go.Figure()\n",
    "\n",
    "\n",
    "for jj in range(0,len(sessions),2):\n",
    "    avg_array  = []\n",
    "    std_array  =  []\n",
    "    for ii in range(len(spheres)):\n",
    "        # Each one of these contains B1, MTsat, T1 and T1cor\n",
    "        cur_sphere_test = derivativesDir + 'ses-' + sessions[jj] + '/stat/sub-phantom_ses-' + sessions[jj] + '_desc-sphere' + str(spheres[ii]) + '_metrics.mat'\n",
    "        cur_sphere_retest = derivativesDir + 'ses-' + sessions[jj+1] + '/stat/sub-phantom_ses-' + sessions[jj+1] + '_desc-sphere' + str(spheres[ii]) + '_metrics.mat'\n",
    "        cur_contents_test = sio.loadmat(cur_sphere_test)\n",
    "        cur_contents_retest = sio.loadmat(cur_sphere_retest)\n",
    "        cur_tag = sessions[jj][0:-6]\n",
    "        avg_array.append(np.mean([cur_contents_test['T1cor'].flatten().mean(),cur_contents_retest['T1cor'].flatten().mean()]))\n",
    "        std_array.append(np.mean([cur_contents_test['T1cor'].flatten().std(),cur_contents_retest['T1cor'].flatten().std()]))\n",
    "    df[cur_tag + '_mean'] = avg_array\n",
    "    df[cur_tag + '_std'] = std_array\n",
    "    upper = list(np.squeeze(np.array(avg_array)) + np.squeeze(np.array(std_array)))\n",
    "    lower = list(np.squeeze(np.array(avg_array)) - np.squeeze(np.array(std_array)))\n",
    "    # Add std lines\n",
    "    fig.add_trace(go.Scatter(\n",
    "    x= spheres + spheres[::-1],\n",
    "    y=upper+lower[::-1],\n",
    "    fill='toself',\n",
    "    fillcolor= colors_line[cur_tag],\n",
    "    line_color='rgba(255,0,0,0)',\n",
    "    name= convert_tag[cur_tag],\n",
    "    ))\n",
    "    # Add markers\n",
    "    fig.add_trace(go.Scatter(\n",
    "    x=spheres, y=avg_array,\n",
    "    line_color=colors[cur_tag],\n",
    "    name= convert_tag[cur_tag],\n",
    "    marker = dict(size=20,symbol=line_sym[cur_tag],line=dict(color='black',width=1.5),opacity=0.75),\n",
    "    line=dict(width=2, dash=line_dash[cur_tag]),\n",
    "    line_shape='spline'\n",
    "    ))\n",
    "\n",
    "fig.add_trace(go.Scatter(\n",
    "    x=spheres, y=refMean,\n",
    "    line_color='white',\n",
    "    mode = 'markers',\n",
    "    name = 'Reference',\n",
    "    marker = dict(size=25,symbol='cross-open',line = dict(width=2))\n",
    "\n",
    "))\n",
    "\n",
    "fig.update_layout(height=800, width=1000, paper_bgcolor='#000000',plot_bgcolor='#000000')\n",
    "fig.update_layout(legend=dict(x=1, y=1,tracegroupgap=300,font=dict(color=\"white\")))\n",
    "axis_template = dict(linecolor = 'black', showticklabels = True,\n",
    "             tickfont=dict(color=\"white\"), gridcolor = 'rgb(20,20,20)',zerolinecolor = 'rgb(40,40,40)' )\n",
    "fig.update_xaxes(axis_template)\n",
    "fig.update_yaxes(axis_template,gridcolor = 'rgb(100,100,100)')\n",
    "\n",
    "plot_y = [2.5,1.989,1.454,0.9841,0.706,0.4967,0.3515,0.24713,0.1753,0.1259,0.089]\n",
    "\n",
    "fig.update_yaxes(tickvals=np.round(plot_y,2),range=[0,2.38])\n",
    "fig.update_xaxes(tickvals=spheres)\n",
    "fig.update_layout(title='',title_font_color=\"white\",margin=dict(l=0,r=0,t=0,b=0))\n",
    "\n",
    "plot(fig)"
   ]
  },
  {
   "cell_type": "markdown",
   "metadata": {},
   "source": [
    "## Percent dif Before B1 correction"
   ]
  },
  {
   "cell_type": "code",
   "execution_count": null,
   "metadata": {},
   "outputs": [],
   "source": [
    "derivativesDir = '/Users/agah/Desktop/KuzuData/PHD_DATA/ds-venus/derivatives/qMRLab/sub-phantom/'\n",
    "\n",
    "spheres = [1, 2, 3, 4, 5, 6, 7, 8, 9, 10]\n",
    "refMean = [1.989,1.454,0.9841,0.706,0.4967,0.3515,0.24713,0.1753,0.1259,0.089]\n",
    "\n",
    "\n",
    "sessions = ['rth750retest','rth750test','rthPRIretest','rthPRItest','rthSKYretest','rthSKYtest',\n",
    "            'vendor750retest', 'vendor750test','vendorPRIretest','vendorPRItest','vendorSKYretest','vendorSKYtest']\n",
    "\n",
    "convert_tag = {'rth750':'G1<sub>neutral</sub>','rthPRI':'S1<sub>neutral</sub>','rthSKY':'S2<sub>neutral</sub>',\n",
    "               'vendor750':'G1<sub>native</sub>','vendorPRI':'S1<sub>native</sub>','vendorSKY':'S2<sub>native</sub>'\n",
    "              }\n",
    "# 'rth750':\n",
    "colors = {'rth750':'rgba(255,8,30,1)','rthPRI':'rgba(255,117,0,1)','rthSKY':'rgba(255,220,0,1)',\n",
    "         'vendor750':'rgba(13,186,233,1)','vendorPRI':'rgba(2.5,187,180,1)','vendorSKY':'rgba(0,248,205,1)'}\n",
    "\n",
    "colors_line = {'rth750':'rgba(255,8,30,0.2)','rthPRI':'rgba(255,117,0,0.1)','rthSKY':'rgba(255,220,0,0.1)',\n",
    "         'vendor750':'rgba(13,186,233,0.1)','vendorPRI':'rgba(2.5,187,180,0.1)','vendorSKY':'rgba(0,248,205,0.11)'}\n",
    "\n",
    "\n",
    "line_dash = {'rth750':'dash','rthPRI':'dash','rthSKY':'dash',\n",
    "         'vendor750':'solid','vendorPRI':'solid','vendorSKY':'solid'}\n",
    "\n",
    "line_sym = {'rth750':'circle','rthPRI':'circle','rthSKY':'circle',\n",
    "         'vendor750':'square','vendorPRI':'square','vendorSKY':'square'}\n",
    "\n",
    "\n",
    "df = pd.DataFrame()\n",
    "\n",
    "fig = go.Figure()\n",
    "\n",
    "\n",
    "for jj in range(0,len(sessions),2):\n",
    "    avg_array  = []\n",
    "    std_array  =  []\n",
    "    pctdif = []\n",
    "    for ii in range(len(spheres)):\n",
    "        # Each one of these contains B1, MTsat, T1 and T1cor\n",
    "        cur_sphere_test = derivativesDir + 'ses-' + sessions[jj] + '/stat/sub-phantom_ses-' + sessions[jj] + '_desc-sphere' + str(spheres[ii]) + '_metrics.mat'\n",
    "        cur_sphere_retest = derivativesDir + 'ses-' + sessions[jj+1] + '/stat/sub-phantom_ses-' + sessions[jj+1] + '_desc-sphere' + str(spheres[ii]) + '_metrics.mat'\n",
    "        cur_contents_test = sio.loadmat(cur_sphere_test)\n",
    "        cur_contents_retest = sio.loadmat(cur_sphere_retest)\n",
    "        cur_tag = sessions[jj][0:-6]\n",
    "        cur_val = np.mean([cur_contents_test['T1'].flatten().mean(),cur_contents_retest['T1'].flatten().mean()])\n",
    "        pctdif.append((abs(cur_val-refMean[ii])/(np.mean([cur_val,refMean[ii]])))*100) \n",
    "        std_array.append(np.mean([cur_contents_test['T1'].flatten().std(),cur_contents_retest['T1'].flatten().std()]))\n",
    "    #df[cur_tag + '_mean'] = avg_array\n",
    "    #df[cur_tag + '_std'] = std_array\n",
    "    #upper = list(np.squeeze(np.array(avg_array)) + np.squeeze(np.array(std_array)))\n",
    "    #lower = list(np.squeeze(np.array(avg_array)) - np.squeeze(np.array(std_array)))\n",
    "    # Add markers\n",
    "    fig.add_trace(go.Scatter(\n",
    "    x=spheres, y=pctdif,\n",
    "    line_color=colors[cur_tag],\n",
    "    name= convert_tag[cur_tag],\n",
    "    marker = dict(size=20,symbol=line_sym[cur_tag],line=dict(color='black',width=1.5),opacity=0.75),\n",
    "    line=dict(width=2, dash=line_dash[cur_tag]),\n",
    "    line_shape='spline'\n",
    "    ))\n",
    "\n",
    "\n",
    "fig.update_layout(height=500, width=1000, paper_bgcolor='#000000',plot_bgcolor='#000000')\n",
    "fig.update_layout(legend=dict(x=1, y=1,tracegroupgap=300,font=dict(color=\"white\")),margin=dict(l=0,r=0,t=0,b=0))\n",
    "axis_template = dict(linecolor = 'black', showticklabels = True,\n",
    "             tickfont=dict(color=\"white\"), gridcolor = 'rgb(20,20,20)',zerolinecolor = 'rgb(40,40,40)' )\n",
    "fig.update_xaxes(axis_template)\n",
    "fig.update_yaxes(axis_template,gridcolor = 'rgb(60,60,60)')\n",
    "\n",
    "#plot_y = [2.5,1.989,1.454,0.9841,0.706,0.4967,0.3515,0.24713,0.1753,0.1259,0.089]\n",
    "\n",
    "fig.update_yaxes(range=[-1,55])\n",
    "fig.update_xaxes(tickvals=spheres)\n",
    "\n",
    "fig.update_layout(title_font_color=\"white\",)\n",
    "\n",
    "plot(fig)"
   ]
  },
  {
   "cell_type": "markdown",
   "metadata": {},
   "source": [
    "## Percent error after B1"
   ]
  },
  {
   "cell_type": "code",
   "execution_count": null,
   "metadata": {},
   "outputs": [],
   "source": [
    "derivativesDir = '/Users/agah/Desktop/KuzuData/PHD_DATA/ds-venus/derivatives/qMRLab/sub-phantom/'\n",
    "\n",
    "spheres = [1, 2, 3, 4, 5, 6, 7, 8, 9, 10]\n",
    "refMean = [1.989,1.454,0.9841,0.706,0.4967,0.3515,0.24713,0.1753,0.1259,0.089]\n",
    "\n",
    "\n",
    "sessions = ['rth750retest','rth750test','rthPRIretest','rthPRItest','rthSKYretest','rthSKYtest',\n",
    "            'vendorPRIretest','vendorPRItest','vendorSKYretest','vendorSKYtest']\n",
    "\n",
    "convert_tag = {'rth750':'G1<sub>neutral</sub>','rthPRI':'S1<sub>neutral</sub>','rthSKY':'S2<sub>neutral</sub>',\n",
    "               'vendor750':'G1<sub>native</sub>','vendorPRI':'S1<sub>native</sub>','vendorSKY':'S2<sub>native</sub>'\n",
    "              }\n",
    "# 'rth750':\n",
    "colors = {'rth750':'rgba(255,8,30,1)','rthPRI':'rgba(255,117,0,1)','rthSKY':'rgba(255,220,0,1)',\n",
    "         'vendor750':'rgba(0,75,255,1)','vendorPRI':'rgba(24,231,234,1)','vendorSKY':'rgba(24,234,141,1)'}\n",
    "\n",
    "colors_line = {'rth750':'rgba(255,8,30,0.35)','rthPRI':'rgba(255,117,0,0.35)','rthSKY':'rgba(255,220,0,0.35)',\n",
    "         'vendor750':'rgba(0,75,255,0.35)','vendorPRI':'rgba(24,231,234,0.35)','vendorSKY':'rgba(24,234,141,0.35)'}\n",
    "\n",
    "df = pd.DataFrame()\n",
    "\n",
    "fig = go.Figure()\n",
    "\n",
    "\n",
    "for jj in range(0,len(sessions),2):\n",
    "    avg_array  = []\n",
    "    std_array  =  []\n",
    "    pctdif = []\n",
    "    for ii in range(len(spheres)):\n",
    "        # Each one of these contains B1, MTsat, T1 and T1cor\n",
    "        cur_sphere_test = derivativesDir + 'ses-' + sessions[jj] + '/stat/sub-phantom_ses-' + sessions[jj] + '_desc-sphere' + str(spheres[ii]) + '_metrics.mat'\n",
    "        cur_sphere_retest = derivativesDir + 'ses-' + sessions[jj+1] + '/stat/sub-phantom_ses-' + sessions[jj+1] + '_desc-sphere' + str(spheres[ii]) + '_metrics.mat'\n",
    "        cur_contents_test = sio.loadmat(cur_sphere_test)\n",
    "        cur_contents_retest = sio.loadmat(cur_sphere_retest)\n",
    "        cur_tag = sessions[jj][0:-6]\n",
    "        cur_val = np.mean([cur_contents_test['T1cor'].flatten().mean(),cur_contents_retest['T1cor'].flatten().mean()])\n",
    "        pctdif.append((abs(cur_val-refMean[ii])/(np.mean([cur_val,refMean[ii]])))*100) \n",
    "        std_array.append(np.mean([cur_contents_test['T1cor'].flatten().std(),cur_contents_retest['T1cor'].flatten().std()]))\n",
    "    #df[cur_tag + '_mean'] = avg_array\n",
    "    #df[cur_tag + '_std'] = std_array\n",
    "    #upper = list(np.squeeze(np.array(avg_array)) + np.squeeze(np.array(std_array)))\n",
    "    #lower = list(np.squeeze(np.array(avg_array)) - np.squeeze(np.array(std_array)))\n",
    "    # Add markers\n",
    "    fig.add_trace(go.Scatter(\n",
    "    x=spheres, y=pctdif,\n",
    "    line_color=colors[cur_tag],\n",
    "    name= convert_tag[cur_tag],\n",
    "    marker = dict(size=10),\n",
    "    ))\n",
    "\n",
    "\n",
    "fig.update_layout(height=500, width=1000, paper_bgcolor='#000000',plot_bgcolor='#000000')\n",
    "fig.update_layout(legend=dict(x=1, y=1,tracegroupgap=300,font=dict(color=\"white\")))\n",
    "axis_template = dict(linecolor = 'black', showticklabels = True,\n",
    "             tickfont=dict(color=\"white\"), gridcolor = 'rgb(20,20,20)',zerolinecolor = 'rgb(40,40,40)' )\n",
    "fig.update_xaxes(axis_template)\n",
    "fig.update_yaxes(axis_template,gridcolor = 'rgb(60,60,60)')\n",
    "\n",
    "#plot_y = [2.5,1.989,1.454,0.9841,0.706,0.4967,0.3515,0.24713,0.1753,0.1259,0.089]\n",
    "\n",
    "fig.update_yaxes(range=[-1,45])\n",
    "fig.update_xaxes(tickvals=spheres)\n",
    "\n",
    "fig.update_layout(title='Percent difference | B1 corrected',title_font_color=\"white\",)\n",
    "\n",
    "\n",
    "plot(fig)"
   ]
  },
  {
   "cell_type": "code",
   "execution_count": null,
   "metadata": {},
   "outputs": [],
   "source": []
  }
 ],
 "metadata": {
  "kernelspec": {
   "display_name": "Python 3",
   "language": "python",
   "name": "python3"
  },
  "language_info": {
   "codemirror_mode": {
    "name": "ipython",
    "version": 3
   },
   "file_extension": ".py",
   "mimetype": "text/x-python",
   "name": "python",
   "nbconvert_exporter": "python",
   "pygments_lexer": "ipython3",
   "version": "3.6.12"
  }
 },
 "nbformat": 4,
 "nbformat_minor": 4
}
